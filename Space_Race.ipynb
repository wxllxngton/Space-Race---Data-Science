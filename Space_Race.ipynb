{
 "cells": [
  {
   "cell_type": "markdown",
   "id": "c97ac6fb",
   "metadata": {},
   "source": [
    "# Setup and Context\n",
    "\n",
    "## Introduction to the Space Race"
   ]
  },
  {
   "cell_type": "markdown",
   "id": "2db3b3e6",
   "metadata": {},
   "source": [
    "Dataset from <a href='nextspaceflight.com'>nextspaceflight.com</a> that includes all the space missions since the beginning of Space Race between the USA and the Soviet Union in 1957! It has data on the mission status (success/failure), the cost of the mission, the number of launches per country, and much much more. There's so much we can learn from this dataset about the dominant organisations and the trends over time.\n",
    "\n",
    "<img src='https://www.esa.int/var/esa/storage/images/esa_multimedia/images/2019/06/europe_s_rockets/19421217-6-eng-GB/Europe_s_rockets_pillars.jpg'>"
   ]
  },
  {
   "cell_type": "markdown",
   "id": "207af785",
   "metadata": {},
   "source": [
    "## Questions to be answered:\n",
    "\n",
    ">Who launched the most missions in any given year?\n",
    "\n",
    "\n",
    ">Which months are the most popular for launches?\n",
    "\n",
    ">Have space missions gotten safer or has the chance of failure remained unchanged?\n",
    "\n",
    ">Where do most launches happen?\n",
    "\n",
    ">Which company have occupied these locations?\n",
    "\n",
    ">What is the current status of most rockets? "
   ]
  },
  {
   "cell_type": "code",
   "execution_count": 37,
   "id": "c6c800cb",
   "metadata": {},
   "outputs": [],
   "source": [
    "# Importing necessary libraries\n",
    "import numpy as np\n",
    "import pandas as pd\n",
    "import matplotlib.pyplot as plt\n",
    "import plotly.express as px"
   ]
  },
  {
   "cell_type": "code",
   "execution_count": 38,
   "id": "f307da85",
   "metadata": {},
   "outputs": [],
   "source": [
    "data = pd.read_csv(\"P:/School/Coding Courses/Python Journey/Day 97 - Space Race Data Science/Space_Corrected.csv\")"
   ]
  },
  {
   "cell_type": "code",
   "execution_count": 39,
   "id": "78ebedb9",
   "metadata": {},
   "outputs": [
    {
     "data": {
      "text/plain": [
       "(4324, 9)"
      ]
     },
     "execution_count": 39,
     "metadata": {},
     "output_type": "execute_result"
    }
   ],
   "source": [
    "data.shape # 4324 rows and 9 columns"
   ]
  },
  {
   "cell_type": "code",
   "execution_count": 40,
   "id": "a962a8c8",
   "metadata": {},
   "outputs": [
    {
     "data": {
      "text/html": [
       "<div>\n",
       "<style scoped>\n",
       "    .dataframe tbody tr th:only-of-type {\n",
       "        vertical-align: middle;\n",
       "    }\n",
       "\n",
       "    .dataframe tbody tr th {\n",
       "        vertical-align: top;\n",
       "    }\n",
       "\n",
       "    .dataframe thead th {\n",
       "        text-align: right;\n",
       "    }\n",
       "</style>\n",
       "<table border=\"1\" class=\"dataframe\">\n",
       "  <thead>\n",
       "    <tr style=\"text-align: right;\">\n",
       "      <th></th>\n",
       "      <th>Unnamed: 0.1</th>\n",
       "      <th>Unnamed: 0</th>\n",
       "      <th>Company Name</th>\n",
       "      <th>Location</th>\n",
       "      <th>Datum</th>\n",
       "      <th>Detail</th>\n",
       "      <th>Status Rocket</th>\n",
       "      <th>Rocket</th>\n",
       "      <th>Status Mission</th>\n",
       "    </tr>\n",
       "  </thead>\n",
       "  <tbody>\n",
       "    <tr>\n",
       "      <th>0</th>\n",
       "      <td>0</td>\n",
       "      <td>0</td>\n",
       "      <td>SpaceX</td>\n",
       "      <td>LC-39A, Kennedy Space Center, Florida, USA</td>\n",
       "      <td>Fri Aug 07, 2020 05:12 UTC</td>\n",
       "      <td>Falcon 9 Block 5 | Starlink V1 L9 &amp; BlackSky</td>\n",
       "      <td>StatusActive</td>\n",
       "      <td>50.0</td>\n",
       "      <td>Success</td>\n",
       "    </tr>\n",
       "    <tr>\n",
       "      <th>1</th>\n",
       "      <td>1</td>\n",
       "      <td>1</td>\n",
       "      <td>CASC</td>\n",
       "      <td>Site 9401 (SLS-2), Jiuquan Satellite Launch Ce...</td>\n",
       "      <td>Thu Aug 06, 2020 04:01 UTC</td>\n",
       "      <td>Long March 2D | Gaofen-9 04 &amp; Q-SAT</td>\n",
       "      <td>StatusActive</td>\n",
       "      <td>29.75</td>\n",
       "      <td>Success</td>\n",
       "    </tr>\n",
       "    <tr>\n",
       "      <th>2</th>\n",
       "      <td>2</td>\n",
       "      <td>2</td>\n",
       "      <td>SpaceX</td>\n",
       "      <td>Pad A, Boca Chica, Texas, USA</td>\n",
       "      <td>Tue Aug 04, 2020 23:57 UTC</td>\n",
       "      <td>Starship Prototype | 150 Meter Hop</td>\n",
       "      <td>StatusActive</td>\n",
       "      <td>NaN</td>\n",
       "      <td>Success</td>\n",
       "    </tr>\n",
       "    <tr>\n",
       "      <th>3</th>\n",
       "      <td>3</td>\n",
       "      <td>3</td>\n",
       "      <td>Roscosmos</td>\n",
       "      <td>Site 200/39, Baikonur Cosmodrome, Kazakhstan</td>\n",
       "      <td>Thu Jul 30, 2020 21:25 UTC</td>\n",
       "      <td>Proton-M/Briz-M | Ekspress-80 &amp; Ekspress-103</td>\n",
       "      <td>StatusActive</td>\n",
       "      <td>65.0</td>\n",
       "      <td>Success</td>\n",
       "    </tr>\n",
       "    <tr>\n",
       "      <th>4</th>\n",
       "      <td>4</td>\n",
       "      <td>4</td>\n",
       "      <td>ULA</td>\n",
       "      <td>SLC-41, Cape Canaveral AFS, Florida, USA</td>\n",
       "      <td>Thu Jul 30, 2020 11:50 UTC</td>\n",
       "      <td>Atlas V 541 | Perseverance</td>\n",
       "      <td>StatusActive</td>\n",
       "      <td>145.0</td>\n",
       "      <td>Success</td>\n",
       "    </tr>\n",
       "  </tbody>\n",
       "</table>\n",
       "</div>"
      ],
      "text/plain": [
       "   Unnamed: 0.1  Unnamed: 0 Company Name  \\\n",
       "0             0           0       SpaceX   \n",
       "1             1           1         CASC   \n",
       "2             2           2       SpaceX   \n",
       "3             3           3    Roscosmos   \n",
       "4             4           4          ULA   \n",
       "\n",
       "                                            Location  \\\n",
       "0         LC-39A, Kennedy Space Center, Florida, USA   \n",
       "1  Site 9401 (SLS-2), Jiuquan Satellite Launch Ce...   \n",
       "2                      Pad A, Boca Chica, Texas, USA   \n",
       "3       Site 200/39, Baikonur Cosmodrome, Kazakhstan   \n",
       "4           SLC-41, Cape Canaveral AFS, Florida, USA   \n",
       "\n",
       "                        Datum                                        Detail  \\\n",
       "0  Fri Aug 07, 2020 05:12 UTC  Falcon 9 Block 5 | Starlink V1 L9 & BlackSky   \n",
       "1  Thu Aug 06, 2020 04:01 UTC           Long March 2D | Gaofen-9 04 & Q-SAT   \n",
       "2  Tue Aug 04, 2020 23:57 UTC            Starship Prototype | 150 Meter Hop   \n",
       "3  Thu Jul 30, 2020 21:25 UTC  Proton-M/Briz-M | Ekspress-80 & Ekspress-103   \n",
       "4  Thu Jul 30, 2020 11:50 UTC                    Atlas V 541 | Perseverance   \n",
       "\n",
       "  Status Rocket  Rocket Status Mission  \n",
       "0  StatusActive   50.0         Success  \n",
       "1  StatusActive  29.75         Success  \n",
       "2  StatusActive     NaN        Success  \n",
       "3  StatusActive   65.0         Success  \n",
       "4  StatusActive  145.0         Success  "
      ]
     },
     "execution_count": 40,
     "metadata": {},
     "output_type": "execute_result"
    }
   ],
   "source": [
    "data.head() # First 5 rows of the dataset"
   ]
  },
  {
   "cell_type": "code",
   "execution_count": 41,
   "id": "181b22e9",
   "metadata": {},
   "outputs": [
    {
     "data": {
      "text/html": [
       "<div>\n",
       "<style scoped>\n",
       "    .dataframe tbody tr th:only-of-type {\n",
       "        vertical-align: middle;\n",
       "    }\n",
       "\n",
       "    .dataframe tbody tr th {\n",
       "        vertical-align: top;\n",
       "    }\n",
       "\n",
       "    .dataframe thead th {\n",
       "        text-align: right;\n",
       "    }\n",
       "</style>\n",
       "<table border=\"1\" class=\"dataframe\">\n",
       "  <thead>\n",
       "    <tr style=\"text-align: right;\">\n",
       "      <th></th>\n",
       "      <th>Unnamed: 0.1</th>\n",
       "      <th>Unnamed: 0</th>\n",
       "      <th>Company Name</th>\n",
       "      <th>Location</th>\n",
       "      <th>Datum</th>\n",
       "      <th>Detail</th>\n",
       "      <th>Status Rocket</th>\n",
       "      <th>Rocket</th>\n",
       "      <th>Status Mission</th>\n",
       "    </tr>\n",
       "  </thead>\n",
       "  <tbody>\n",
       "    <tr>\n",
       "      <th>4319</th>\n",
       "      <td>4319</td>\n",
       "      <td>4319</td>\n",
       "      <td>US Navy</td>\n",
       "      <td>LC-18A, Cape Canaveral AFS, Florida, USA</td>\n",
       "      <td>Wed Feb 05, 1958 07:33 UTC</td>\n",
       "      <td>Vanguard | Vanguard TV3BU</td>\n",
       "      <td>StatusRetired</td>\n",
       "      <td>NaN</td>\n",
       "      <td>Failure</td>\n",
       "    </tr>\n",
       "    <tr>\n",
       "      <th>4320</th>\n",
       "      <td>4320</td>\n",
       "      <td>4320</td>\n",
       "      <td>AMBA</td>\n",
       "      <td>LC-26A, Cape Canaveral AFS, Florida, USA</td>\n",
       "      <td>Sat Feb 01, 1958 03:48 UTC</td>\n",
       "      <td>Juno I | Explorer 1</td>\n",
       "      <td>StatusRetired</td>\n",
       "      <td>NaN</td>\n",
       "      <td>Success</td>\n",
       "    </tr>\n",
       "    <tr>\n",
       "      <th>4321</th>\n",
       "      <td>4321</td>\n",
       "      <td>4321</td>\n",
       "      <td>US Navy</td>\n",
       "      <td>LC-18A, Cape Canaveral AFS, Florida, USA</td>\n",
       "      <td>Fri Dec 06, 1957 16:44 UTC</td>\n",
       "      <td>Vanguard | Vanguard TV3</td>\n",
       "      <td>StatusRetired</td>\n",
       "      <td>NaN</td>\n",
       "      <td>Failure</td>\n",
       "    </tr>\n",
       "    <tr>\n",
       "      <th>4322</th>\n",
       "      <td>4322</td>\n",
       "      <td>4322</td>\n",
       "      <td>RVSN USSR</td>\n",
       "      <td>Site 1/5, Baikonur Cosmodrome, Kazakhstan</td>\n",
       "      <td>Sun Nov 03, 1957 02:30 UTC</td>\n",
       "      <td>Sputnik 8K71PS | Sputnik-2</td>\n",
       "      <td>StatusRetired</td>\n",
       "      <td>NaN</td>\n",
       "      <td>Success</td>\n",
       "    </tr>\n",
       "    <tr>\n",
       "      <th>4323</th>\n",
       "      <td>4323</td>\n",
       "      <td>4323</td>\n",
       "      <td>RVSN USSR</td>\n",
       "      <td>Site 1/5, Baikonur Cosmodrome, Kazakhstan</td>\n",
       "      <td>Fri Oct 04, 1957 19:28 UTC</td>\n",
       "      <td>Sputnik 8K71PS | Sputnik-1</td>\n",
       "      <td>StatusRetired</td>\n",
       "      <td>NaN</td>\n",
       "      <td>Success</td>\n",
       "    </tr>\n",
       "  </tbody>\n",
       "</table>\n",
       "</div>"
      ],
      "text/plain": [
       "      Unnamed: 0.1  Unnamed: 0 Company Name  \\\n",
       "4319          4319        4319      US Navy   \n",
       "4320          4320        4320         AMBA   \n",
       "4321          4321        4321      US Navy   \n",
       "4322          4322        4322    RVSN USSR   \n",
       "4323          4323        4323    RVSN USSR   \n",
       "\n",
       "                                       Location                       Datum  \\\n",
       "4319   LC-18A, Cape Canaveral AFS, Florida, USA  Wed Feb 05, 1958 07:33 UTC   \n",
       "4320   LC-26A, Cape Canaveral AFS, Florida, USA  Sat Feb 01, 1958 03:48 UTC   \n",
       "4321   LC-18A, Cape Canaveral AFS, Florida, USA  Fri Dec 06, 1957 16:44 UTC   \n",
       "4322  Site 1/5, Baikonur Cosmodrome, Kazakhstan  Sun Nov 03, 1957 02:30 UTC   \n",
       "4323  Site 1/5, Baikonur Cosmodrome, Kazakhstan  Fri Oct 04, 1957 19:28 UTC   \n",
       "\n",
       "                          Detail  Status Rocket  Rocket Status Mission  \n",
       "4319   Vanguard | Vanguard TV3BU  StatusRetired     NaN        Failure  \n",
       "4320         Juno I | Explorer 1  StatusRetired     NaN        Success  \n",
       "4321     Vanguard | Vanguard TV3  StatusRetired     NaN        Failure  \n",
       "4322  Sputnik 8K71PS | Sputnik-2  StatusRetired     NaN        Success  \n",
       "4323  Sputnik 8K71PS | Sputnik-1  StatusRetired     NaN        Success  "
      ]
     },
     "execution_count": 41,
     "metadata": {},
     "output_type": "execute_result"
    }
   ],
   "source": [
    "data.tail() # Last 5 rows of the dataset"
   ]
  },
  {
   "cell_type": "code",
   "execution_count": 42,
   "id": "9b5215c7",
   "metadata": {},
   "outputs": [
    {
     "name": "stdout",
     "output_type": "stream",
     "text": [
      "<class 'pandas.core.frame.DataFrame'>\n",
      "RangeIndex: 4324 entries, 0 to 4323\n",
      "Data columns (total 9 columns):\n",
      " #   Column          Non-Null Count  Dtype \n",
      "---  ------          --------------  ----- \n",
      " 0   Unnamed: 0.1    4324 non-null   int64 \n",
      " 1   Unnamed: 0      4324 non-null   int64 \n",
      " 2   Company Name    4324 non-null   object\n",
      " 3   Location        4324 non-null   object\n",
      " 4   Datum           4324 non-null   object\n",
      " 5   Detail          4324 non-null   object\n",
      " 6   Status Rocket   4324 non-null   object\n",
      " 7    Rocket         964 non-null    object\n",
      " 8   Status Mission  4324 non-null   object\n",
      "dtypes: int64(2), object(7)\n",
      "memory usage: 304.2+ KB\n"
     ]
    }
   ],
   "source": [
    "data.info() # Prints information about a DataFrame"
   ]
  },
  {
   "cell_type": "markdown",
   "id": "a259a503",
   "metadata": {},
   "source": [
    "### Who launched the most missions in any given year?"
   ]
  },
  {
   "cell_type": "code",
   "execution_count": 43,
   "id": "bf99535e",
   "metadata": {},
   "outputs": [
    {
     "name": "stdout",
     "output_type": "stream",
     "text": [
      "<class 'pandas.core.frame.DataFrame'>\n",
      "RangeIndex: 4324 entries, 0 to 4323\n",
      "Data columns (total 10 columns):\n",
      " #   Column          Non-Null Count  Dtype              \n",
      "---  ------          --------------  -----              \n",
      " 0   Unnamed: 0.1    4324 non-null   int64              \n",
      " 1   Unnamed: 0      4324 non-null   int64              \n",
      " 2   Company Name    4324 non-null   object             \n",
      " 3   Location        4324 non-null   object             \n",
      " 4   Datum           4324 non-null   datetime64[ns, UTC]\n",
      " 5   Detail          4324 non-null   object             \n",
      " 6   Status Rocket   4324 non-null   object             \n",
      " 7    Rocket         964 non-null    object             \n",
      " 8   Status Mission  4324 non-null   object             \n",
      " 9   Year            4324 non-null   int64              \n",
      "dtypes: datetime64[ns, UTC](1), int64(3), object(6)\n",
      "memory usage: 337.9+ KB\n"
     ]
    }
   ],
   "source": [
    "# Converting the Datum column into Datetime\n",
    "data.Datum = pd.to_datetime(data.Datum, utc=True)\n",
    "\n",
    "# Creating new column with year of lauch\n",
    "data['Year'] = data.Datum.dt.year\n",
    "data.info()"
   ]
  },
  {
   "cell_type": "code",
   "execution_count": 44,
   "id": "7aea18e7",
   "metadata": {},
   "outputs": [
    {
     "data": {
      "text/html": [
       "<div>\n",
       "<style scoped>\n",
       "    .dataframe tbody tr th:only-of-type {\n",
       "        vertical-align: middle;\n",
       "    }\n",
       "\n",
       "    .dataframe tbody tr th {\n",
       "        vertical-align: top;\n",
       "    }\n",
       "\n",
       "    .dataframe thead th {\n",
       "        text-align: right;\n",
       "    }\n",
       "</style>\n",
       "<table border=\"1\" class=\"dataframe\">\n",
       "  <thead>\n",
       "    <tr style=\"text-align: right;\">\n",
       "      <th></th>\n",
       "      <th></th>\n",
       "      <th>Launches</th>\n",
       "    </tr>\n",
       "    <tr>\n",
       "      <th>Company Name</th>\n",
       "      <th>Year</th>\n",
       "      <th></th>\n",
       "    </tr>\n",
       "  </thead>\n",
       "  <tbody>\n",
       "    <tr>\n",
       "      <th>RVSN USSR</th>\n",
       "      <th>1977</th>\n",
       "      <td>97</td>\n",
       "    </tr>\n",
       "  </tbody>\n",
       "</table>\n",
       "</div>"
      ],
      "text/plain": [
       "                   Launches\n",
       "Company Name Year          \n",
       "RVSN USSR    1977        97"
      ]
     },
     "execution_count": 44,
     "metadata": {},
     "output_type": "execute_result"
    }
   ],
   "source": [
    "company_launches = data.groupby(['Company Name','Year']).agg({'Company Name':pd.Series.count})\n",
    "company_launches.rename(columns={'Company Name':'Company Name', 'Year':'Year', 'Company Name':'Launches'}, inplace=True)\n",
    "company_launches[company_launches.Launches == company_launches.Launches.max()]"
   ]
  },
  {
   "cell_type": "markdown",
   "id": "50e63156",
   "metadata": {},
   "source": [
    "**The RSVN USSR** in **1997** launched **97** missions which the most missions launched in any year."
   ]
  },
  {
   "cell_type": "markdown",
   "id": "b4e7e52a",
   "metadata": {},
   "source": [
    "### Which months are the most popular for launches?"
   ]
  },
  {
   "cell_type": "code",
   "execution_count": 45,
   "id": "fa94e19a",
   "metadata": {},
   "outputs": [],
   "source": [
    "# Duplicating the dataframe so as not to tamper with the original\n",
    "df_copy = data.copy()\n",
    "\n",
    "# Creating new column with month of lauch\n",
    "df_copy['Month'] = df_copy.Datum.dt.month_name()"
   ]
  },
  {
   "cell_type": "code",
   "execution_count": 46,
   "id": "c884140c",
   "metadata": {
    "scrolled": true
   },
   "outputs": [
    {
     "data": {
      "text/html": [
       "<div>\n",
       "<style scoped>\n",
       "    .dataframe tbody tr th:only-of-type {\n",
       "        vertical-align: middle;\n",
       "    }\n",
       "\n",
       "    .dataframe tbody tr th {\n",
       "        vertical-align: top;\n",
       "    }\n",
       "\n",
       "    .dataframe thead th {\n",
       "        text-align: right;\n",
       "    }\n",
       "</style>\n",
       "<table border=\"1\" class=\"dataframe\">\n",
       "  <thead>\n",
       "    <tr style=\"text-align: right;\">\n",
       "      <th></th>\n",
       "      <th>Launches</th>\n",
       "    </tr>\n",
       "    <tr>\n",
       "      <th>Month</th>\n",
       "      <th></th>\n",
       "    </tr>\n",
       "  </thead>\n",
       "  <tbody>\n",
       "    <tr>\n",
       "      <th>December</th>\n",
       "      <td>450</td>\n",
       "    </tr>\n",
       "  </tbody>\n",
       "</table>\n",
       "</div>"
      ],
      "text/plain": [
       "          Launches\n",
       "Month             \n",
       "December       450"
      ]
     },
     "execution_count": 46,
     "metadata": {},
     "output_type": "execute_result"
    }
   ],
   "source": [
    "month_launches = df_copy.groupby('Month').agg({'Month':pd.Series.count})\n",
    "month_launches.rename(columns={'Month':'Month','Month':'Launches'}, inplace=True)\n",
    "month_launches[month_launches.Launches == month_launches.Launches.max()]"
   ]
  },
  {
   "cell_type": "code",
   "execution_count": 80,
   "id": "431fb2ed",
   "metadata": {},
   "outputs": [
    {
     "data": {
      "image/png": "[encoded data removed]",
      "text/plain": [
       "<Figure size 1008x576 with 1 Axes>"
      ]
     },
     "metadata": {
      "needs_background": "light"
     },
     "output_type": "display_data"
    }
   ],
   "source": [
    "# Sorting the series in descending order\n",
    "month_launches.sort_values('Launches', ascending=False, inplace=True)\n",
    "\n",
    "plt.figure(figsize=(14,8))\n",
    "plt.xticks(fontsize=14, rotation=45)\n",
    "plt.yticks(fontsize=14)\n",
    "plt.ylabel('Launches', fontsize=14)\n",
    "plt.xlabel('Month', fontsize=14)\n",
    "\n",
    "plt.bar(month_launches.index, month_launches.Launches)\n",
    "\n",
    "plt.show()"
   ]
  },
  {
   "cell_type": "markdown",
   "id": "668ee7f7",
   "metadata": {},
   "source": [
    "The month of **December** appears to be the most popular month for launches with **450** launches as per 2020."
   ]
  },
  {
   "cell_type": "markdown",
   "id": "94fb2f35",
   "metadata": {},
   "source": [
    "### Have space missions gotten safer or has the chance of failure remained unchanged?"
   ]
  },
  {
   "cell_type": "code",
   "execution_count": 47,
   "id": "4bb75060",
   "metadata": {},
   "outputs": [
    {
     "data": {
      "text/html": [
       "<div>\n",
       "<style scoped>\n",
       "    .dataframe tbody tr th:only-of-type {\n",
       "        vertical-align: middle;\n",
       "    }\n",
       "\n",
       "    .dataframe tbody tr th {\n",
       "        vertical-align: top;\n",
       "    }\n",
       "\n",
       "    .dataframe thead th {\n",
       "        text-align: right;\n",
       "    }\n",
       "</style>\n",
       "<table border=\"1\" class=\"dataframe\">\n",
       "  <thead>\n",
       "    <tr style=\"text-align: right;\">\n",
       "      <th></th>\n",
       "      <th></th>\n",
       "      <th>Launches</th>\n",
       "    </tr>\n",
       "    <tr>\n",
       "      <th>Status Mission</th>\n",
       "      <th>Year</th>\n",
       "      <th></th>\n",
       "    </tr>\n",
       "  </thead>\n",
       "  <tbody>\n",
       "    <tr>\n",
       "      <th rowspan=\"5\" valign=\"top\">Failure</th>\n",
       "      <th>1957</th>\n",
       "      <td>1</td>\n",
       "    </tr>\n",
       "    <tr>\n",
       "      <th>1958</th>\n",
       "      <td>20</td>\n",
       "    </tr>\n",
       "    <tr>\n",
       "      <th>1959</th>\n",
       "      <td>9</td>\n",
       "    </tr>\n",
       "    <tr>\n",
       "      <th>1960</th>\n",
       "      <td>20</td>\n",
       "    </tr>\n",
       "    <tr>\n",
       "      <th>1961</th>\n",
       "      <td>17</td>\n",
       "    </tr>\n",
       "    <tr>\n",
       "      <th>...</th>\n",
       "      <th>...</th>\n",
       "      <td>...</td>\n",
       "    </tr>\n",
       "    <tr>\n",
       "      <th rowspan=\"5\" valign=\"top\">Success</th>\n",
       "      <th>2016</th>\n",
       "      <td>86</td>\n",
       "    </tr>\n",
       "    <tr>\n",
       "      <th>2017</th>\n",
       "      <td>84</td>\n",
       "    </tr>\n",
       "    <tr>\n",
       "      <th>2018</th>\n",
       "      <td>113</td>\n",
       "    </tr>\n",
       "    <tr>\n",
       "      <th>2019</th>\n",
       "      <td>100</td>\n",
       "    </tr>\n",
       "    <tr>\n",
       "      <th>2020</th>\n",
       "      <td>57</td>\n",
       "    </tr>\n",
       "  </tbody>\n",
       "</table>\n",
       "<p>178 rows × 1 columns</p>\n",
       "</div>"
      ],
      "text/plain": [
       "                     Launches\n",
       "Status Mission Year          \n",
       "Failure        1957         1\n",
       "               1958        20\n",
       "               1959         9\n",
       "               1960        20\n",
       "               1961        17\n",
       "...                       ...\n",
       "Success        2016        86\n",
       "               2017        84\n",
       "               2018       113\n",
       "               2019       100\n",
       "               2020        57\n",
       "\n",
       "[178 rows x 1 columns]"
      ]
     },
     "execution_count": 47,
     "metadata": {},
     "output_type": "execute_result"
    }
   ],
   "source": [
    "df_safevfail = data.groupby(['Status Mission','Year']).agg({'Status Mission':pd.Series.count})\n",
    "df_safevfail.rename(columns={'Status Mission':'Status Mission','Year':'Year','Status Mission':'Launches'}, inplace=True)\n",
    "df_safevfail"
   ]
  },
  {
   "cell_type": "code",
   "execution_count": 48,
   "id": "ea9a2db9",
   "metadata": {},
   "outputs": [],
   "source": [
    "df_new = pd.DataFrame({'Status Mission':df_safevfail.index.get_level_values(0), # Getting first column values of an MultiIndex column \n",
    "                               'Year':df_safevfail.index.get_level_values(1),\n",
    "                               'Launches':df_safevfail.Launches})\n",
    "\n",
    "# Drops the index\n",
    "df_new.reset_index(drop=True, inplace=True)"
   ]
  },
  {
   "cell_type": "code",
   "execution_count": 49,
   "id": "48694772",
   "metadata": {},
   "outputs": [],
   "source": [
    "# Splitting the dataframe into series of Successful and Failed Launches\n",
    "successful_launches = df_new[df_new['Status Mission'] == 'Success']\n",
    "failed_launches = df_new[df_new['Status Mission'] == 'Failure']"
   ]
  },
  {
   "cell_type": "code",
   "execution_count": 50,
   "id": "d50bd8e4",
   "metadata": {},
   "outputs": [
    {
     "data": {
      "image/png": "[encoded data removed]",
      "text/plain": [
       "<Figure size 3200x1600 with 2 Axes>"
      ]
     },
     "metadata": {
      "needs_background": "light"
     },
     "output_type": "display_data"
    }
   ],
   "source": [
    "# Using Matplotlib superimpose the rolling average on a scatter plot\n",
    "plt.figure(figsize=(16,8), dpi=200)\n",
    "plt.title('Number of Missions Launched Per Year', fontsize=18)\n",
    "plt.yticks(fontsize=14)\n",
    "plt.xticks(ticks=np.arange(1900, 2021, step=5), #To create 5-year tick marks on the x-axis, we generate an array using NumPy:\n",
    "           fontsize=14, \n",
    "           rotation=45)\n",
    "\n",
    "\n",
    "ax1 = plt.gca() # get current axes\n",
    "ax2 = ax1.twinx() # create another axis that shares the same x-axis\n",
    "\n",
    "# The key thing is that by using the .twinx() \n",
    "# method allows ax1 and ax2 to share the same x-axis.\n",
    "\n",
    "ax1.plot(failed_launches.Year, \n",
    "         failed_launches.Launches, \n",
    "         c='crimson',\n",
    "         linewidth=3)\n",
    "\n",
    "ax2.plot(successful_launches.Year, \n",
    "         successful_launches.Launches,\n",
    "         c='green',\n",
    "         linewidth=3)\n",
    "\n",
    "#Add styling\n",
    "ax1.set_xlabel('Year')\n",
    "ax1.set_ylabel('Number of Failures', c='crimson')\n",
    "ax2.set_ylabel('Number of Successes', c='green')\n",
    "\n",
    "plt.show()"
   ]
  },
  {
   "cell_type": "markdown",
   "id": "8dad88ab",
   "metadata": {},
   "source": [
    "As we can see space missions have gotten safer over the years as the number of space missions increase and the designs of the rockets get better."
   ]
  },
  {
   "cell_type": "markdown",
   "id": "4d7d9347",
   "metadata": {},
   "source": [
    "### Where do most launches happen?"
   ]
  },
  {
   "cell_type": "code",
   "execution_count": 51,
   "id": "db143379",
   "metadata": {},
   "outputs": [],
   "source": [
    "location_launches = data.groupby('Location').agg({'Location':pd.Series.count})\n",
    "\n",
    "# Renaming the columns\n",
    "location_launches.rename(columns={'Location':'Location','Location':'Launches'}, inplace=True)\n",
    "\n",
    "# Sorting in descending order\n",
    "location_launches.sort_values('Launches', ascending=False, inplace=True)"
   ]
  },
  {
   "cell_type": "code",
   "execution_count": 52,
   "id": "c431a12e",
   "metadata": {},
   "outputs": [
    {
     "data": {
      "text/html": [
       "<div>\n",
       "<style scoped>\n",
       "    .dataframe tbody tr th:only-of-type {\n",
       "        vertical-align: middle;\n",
       "    }\n",
       "\n",
       "    .dataframe tbody tr th {\n",
       "        vertical-align: top;\n",
       "    }\n",
       "\n",
       "    .dataframe thead th {\n",
       "        text-align: right;\n",
       "    }\n",
       "</style>\n",
       "<table border=\"1\" class=\"dataframe\">\n",
       "  <thead>\n",
       "    <tr style=\"text-align: right;\">\n",
       "      <th></th>\n",
       "      <th>Launches</th>\n",
       "    </tr>\n",
       "    <tr>\n",
       "      <th>Location</th>\n",
       "      <th></th>\n",
       "    </tr>\n",
       "  </thead>\n",
       "  <tbody>\n",
       "    <tr>\n",
       "      <th>Site 31/6, Baikonur Cosmodrome, Kazakhstan</th>\n",
       "      <td>235</td>\n",
       "    </tr>\n",
       "    <tr>\n",
       "      <th>Site 132/1, Plesetsk Cosmodrome, Russia</th>\n",
       "      <td>216</td>\n",
       "    </tr>\n",
       "    <tr>\n",
       "      <th>Site 43/4, Plesetsk Cosmodrome, Russia</th>\n",
       "      <td>202</td>\n",
       "    </tr>\n",
       "    <tr>\n",
       "      <th>Site 41/1, Plesetsk Cosmodrome, Russia</th>\n",
       "      <td>198</td>\n",
       "    </tr>\n",
       "    <tr>\n",
       "      <th>Site 1/5, Baikonur Cosmodrome, Kazakhstan</th>\n",
       "      <td>193</td>\n",
       "    </tr>\n",
       "  </tbody>\n",
       "</table>\n",
       "</div>"
      ],
      "text/plain": [
       "                                            Launches\n",
       "Location                                            \n",
       "Site 31/6, Baikonur Cosmodrome, Kazakhstan       235\n",
       "Site 132/1, Plesetsk Cosmodrome, Russia          216\n",
       "Site 43/4, Plesetsk Cosmodrome, Russia           202\n",
       "Site 41/1, Plesetsk Cosmodrome, Russia           198\n",
       "Site 1/5, Baikonur Cosmodrome, Kazakhstan        193"
      ]
     },
     "execution_count": 52,
     "metadata": {},
     "output_type": "execute_result"
    }
   ],
   "source": [
    "# Top 5 locations with the most launches\n",
    "location_launches.head()"
   ]
  },
  {
   "cell_type": "code",
   "execution_count": 53,
   "id": "6dc204cd",
   "metadata": {},
   "outputs": [
    {
     "data": {
      "text/html": [
       "<div>\n",
       "<style scoped>\n",
       "    .dataframe tbody tr th:only-of-type {\n",
       "        vertical-align: middle;\n",
       "    }\n",
       "\n",
       "    .dataframe tbody tr th {\n",
       "        vertical-align: top;\n",
       "    }\n",
       "\n",
       "    .dataframe thead th {\n",
       "        text-align: right;\n",
       "    }\n",
       "</style>\n",
       "<table border=\"1\" class=\"dataframe\">\n",
       "  <thead>\n",
       "    <tr style=\"text-align: right;\">\n",
       "      <th></th>\n",
       "      <th>Launches</th>\n",
       "    </tr>\n",
       "    <tr>\n",
       "      <th>Location</th>\n",
       "      <th></th>\n",
       "    </tr>\n",
       "  </thead>\n",
       "  <tbody>\n",
       "    <tr>\n",
       "      <th>K-84 Submarine, Barents Sea Launch Area, Barents Sea</th>\n",
       "      <td>1</td>\n",
       "    </tr>\n",
       "    <tr>\n",
       "      <th>Site 131/29, Baikonur Cosmodrome, Kazakhstan</th>\n",
       "      <td>1</td>\n",
       "    </tr>\n",
       "    <tr>\n",
       "      <th>LC-576A1, Vandenberg AFB, California, USA</th>\n",
       "      <td>1</td>\n",
       "    </tr>\n",
       "    <tr>\n",
       "      <th>LC-11, Cape Canaveral AFS, Florida, USA</th>\n",
       "      <td>1</td>\n",
       "    </tr>\n",
       "    <tr>\n",
       "      <th>Xichang Satellite Launch Center, China</th>\n",
       "      <td>1</td>\n",
       "    </tr>\n",
       "  </tbody>\n",
       "</table>\n",
       "</div>"
      ],
      "text/plain": [
       "                                                    Launches\n",
       "Location                                                    \n",
       "K-84 Submarine, Barents Sea Launch Area, Barent...         1\n",
       "Site 131/29, Baikonur Cosmodrome, Kazakhstan               1\n",
       "LC-576A1, Vandenberg AFB, California, USA                  1\n",
       "LC-11, Cape Canaveral AFS, Florida, USA                    1\n",
       "Xichang Satellite Launch Center, China                     1"
      ]
     },
     "execution_count": 53,
     "metadata": {},
     "output_type": "execute_result"
    }
   ],
   "source": [
    "# Bottom 5 locations with the most launches\n",
    "location_launches.tail()"
   ]
  },
  {
   "cell_type": "markdown",
   "id": "62e596aa",
   "metadata": {},
   "source": [
    "### Which company have occupied these locations?"
   ]
  },
  {
   "cell_type": "code",
   "execution_count": 59,
   "id": "aab2a12e",
   "metadata": {
    "scrolled": true
   },
   "outputs": [
    {
     "data": {
      "text/html": [
       "<div>\n",
       "<style scoped>\n",
       "    .dataframe tbody tr th:only-of-type {\n",
       "        vertical-align: middle;\n",
       "    }\n",
       "\n",
       "    .dataframe tbody tr th {\n",
       "        vertical-align: top;\n",
       "    }\n",
       "\n",
       "    .dataframe thead th {\n",
       "        text-align: right;\n",
       "    }\n",
       "</style>\n",
       "<table border=\"1\" class=\"dataframe\">\n",
       "  <thead>\n",
       "    <tr style=\"text-align: right;\">\n",
       "      <th></th>\n",
       "      <th></th>\n",
       "      <th>Launches</th>\n",
       "    </tr>\n",
       "    <tr>\n",
       "      <th>Company Name</th>\n",
       "      <th>Location</th>\n",
       "      <th></th>\n",
       "    </tr>\n",
       "  </thead>\n",
       "  <tbody>\n",
       "    <tr>\n",
       "      <th rowspan=\"5\" valign=\"top\">RVSN USSR</th>\n",
       "      <th>Site 31/6, Baikonur Cosmodrome, Kazakhstan</th>\n",
       "      <td>212</td>\n",
       "    </tr>\n",
       "    <tr>\n",
       "      <th>Site 41/1, Plesetsk Cosmodrome, Russia</th>\n",
       "      <td>198</td>\n",
       "    </tr>\n",
       "    <tr>\n",
       "      <th>Site 132/2, Plesetsk Cosmodrome, Russia</th>\n",
       "      <td>174</td>\n",
       "    </tr>\n",
       "    <tr>\n",
       "      <th>Site 1/5, Baikonur Cosmodrome, Kazakhstan</th>\n",
       "      <td>174</td>\n",
       "    </tr>\n",
       "    <tr>\n",
       "      <th>Site 43/4, Plesetsk Cosmodrome, Russia</th>\n",
       "      <td>171</td>\n",
       "    </tr>\n",
       "  </tbody>\n",
       "</table>\n",
       "</div>"
      ],
      "text/plain": [
       "                                                         Launches\n",
       "Company Name Location                                            \n",
       "RVSN USSR    Site 31/6, Baikonur Cosmodrome, Kazakhstan       212\n",
       "             Site 41/1, Plesetsk Cosmodrome, Russia           198\n",
       "             Site 132/2, Plesetsk Cosmodrome, Russia          174\n",
       "             Site 1/5, Baikonur Cosmodrome, Kazakhstan        174\n",
       "             Site 43/4, Plesetsk Cosmodrome, Russia           171"
      ]
     },
     "execution_count": 59,
     "metadata": {},
     "output_type": "execute_result"
    }
   ],
   "source": [
    "company_location_launches = data.groupby(['Company Name','Location']).agg({'Location':pd.Series.count})\n",
    "\n",
    "# Renaming the columns\n",
    "company_location_launches.rename(columns={'Company Name':'Company Name','Location':'Location','Location':'Launches'}, inplace=True)\n",
    "\n",
    "# Sorting in descending order\n",
    "company_location_launches.sort_values('Launches', ascending=False, inplace=True)\n",
    "company_location_launches.head()"
   ]
  },
  {
   "cell_type": "code",
   "execution_count": 61,
   "id": "b2ee2a1f",
   "metadata": {},
   "outputs": [],
   "source": [
    "df_new = pd.DataFrame({'Company Name':company_location_launches.index.get_level_values(0), # Getting first column values of an MultiIndex column \n",
    "                               'Location':company_location_launches.index.get_level_values(1),\n",
    "                               'Launches':company_location_launches.Launches})\n",
    "\n",
    "# Drops the index\n",
    "df_new.reset_index(drop=True, inplace=True)"
   ]
  },
  {
   "cell_type": "code",
   "execution_count": 68,
   "id": "ed718003",
   "metadata": {},
   "outputs": [
    {
     "name": "stderr",
     "output_type": "stream",
     "text": [
      "C:\\tools\\Anaconda3\\lib\\site-packages\\plotly\\express\\_core.py:1637: FutureWarning:\n",
      "\n",
      "The frame.append method is deprecated and will be removed from pandas in a future version. Use pandas.concat instead.\n",
      "\n",
      "C:\\tools\\Anaconda3\\lib\\site-packages\\plotly\\express\\_core.py:1637: FutureWarning:\n",
      "\n",
      "The frame.append method is deprecated and will be removed from pandas in a future version. Use pandas.concat instead.\n",
      "\n"
     ]
    },
    {
     "data": {
      "application/vnd.plotly.v1+json": {
       "config": {
        "plotlyServerURL": "https://plot.ly"
       },
       "data": [
        {
         "branchvalues": "total",
         "domain": {
          "x": [
           0,
           1
          ],
          "y": [
           0,
           1
          ]
         },
         "hovertemplate": "labels=%{label}<br>Launches=%{value}<br>parent=%{parent}<br>id=%{id}<extra></extra>",
         "ids": [
          "Blue Origin/Blue Origin Launch Site, West Texas, Texas, USA",
          "Arm??e de l'Air/Brigitte, Hammaguir, Algeria, France",
          "Virgin Orbit/Cosmic Girl, Mojave Air and Space Port, California, USA",
          "US Navy/Douglas F4D Skyray, Naval Air Station Point Mugu, California, USA",
          "Arianespace/ELA-1, Guiana Space Centre, French Guiana, France",
          "CECLES/ELA-1, Guiana Space Centre, French Guiana, France",
          "Arianespace/ELA-2, Guiana Space Centre, French Guiana, France",
          "ESA/ELA-2, Guiana Space Centre, French Guiana, France",
          "Arianespace/ELA-3, Guiana Space Centre, French Guiana, France",
          "ESA/ELA-3, Guiana Space Centre, French Guiana, France",
          "CNES/ELD, Guiana Space Centre, French Guiana, France",
          "Arianespace/ELS, Guiana Space Centre, French Guiana, France",
          "Arianespace/ELV-1 (SLV), Guiana Space Centre, French Guiana, France",
          "ESA/ELV-1 (SLV), Guiana Space Centre, French Guiana, France",
          "ISRO/First Launch Pad, Satish Dhawan Space Centre, India",
          "ISA/Imam Khomeini Spaceport, Semnan Space Center, Iran",
          "CASIC/Jiuquan Satellite Launch Center, China",
          "SRC/K-407 Submarine, Barents Sea Launch Area, Barents Sea",
          "SRC/K-496 Submarine, Barents Sea Launch Area, Barents Sea",
          "SRC/K-84 Submarine, Barents Sea Launch Area, Barents Sea",
          "NASA/LA-3, Wallops Flight Facility, Virginia, USA",
          "AMBA/LA-5B, RAAF Woomera Range Complex, Australia",
          "CECLES/LA-5B, RAAF Woomera Range Complex, Australia",
          "RAE/LA-5B, RAAF Woomera Range Complex, Australia",
          "JAXA/LA-Y1, Tanegashima Space Center, Japan",
          "MHI/LA-Y1, Tanegashima Space Center, Japan",
          "MHI/LA-Y2, Tanegashima Space Center, Japan",
          "KARI/LC-1, Naro Space Center, South Korea",
          "CASC/LC-101, Wenchang Satellite Launch Center, China",
          "US Air Force/LC-11, Cape Canaveral AFS, Florida, USA",
          "General Dynamics/LC-12, Cape Canaveral AFS, Florida, USA",
          "General Dynamics/LC-13, Cape Canaveral AFS, Florida, USA",
          "General Dynamics/LC-14, Cape Canaveral AFS, Florida, USA",
          "NASA/LC-14, Cape Canaveral AFS, Florida, USA",
          "CASC/LC-16, Taiyuan Satellite Launch Center, China",
          "US Navy/LC-18A, Cape Canaveral AFS, Florida, USA",
          "NASA/LC-18B, Cape Canaveral AFS, Florida, USA",
          "NASA/LC-19, Cape Canaveral AFS, Florida, USA",
          "CASC/LC-2, Xichang Satellite Launch Center, China",
          "CASC/LC-201, Wenchang Satellite Launch Center, China",
          "AMBA/LC-26A, Cape Canaveral AFS, Florida, USA",
          "CASC/LC-3, Xichang Satellite Launch Center, China",
          "NASA/LC-34, Cape Canaveral AFS, Florida, USA",
          "NASA/LC-39A, Kennedy Space Center, Florida, USA",
          "SpaceX/LC-39A, Kennedy Space Center, Florida, USA",
          "NASA/LC-39B, Kennedy Space Center, Florida, USA",
          "AMBA/LC-5, Cape Canaveral AFS, Florida, USA",
          "NASA/LC-5, Cape Canaveral AFS, Florida, USA",
          "General Dynamics/LC-576A1, Vandenberg AFB, California, USA",
          "General Dynamics/LC-576A2, Vandenberg AFB, California, USA",
          "General Dynamics/LC-576B3, Vandenberg AFB, California, USA",
          "CASC/LC-7, Taiyuan Satellite Launch Center, China",
          "CASC/LC-9, Taiyuan Satellite Launch Center, China",
          "Sea Launch/LP Odyssey, Kiritimati Launch Area, Pacific Ocean",
          "EER/LP-0A, Wallops Flight Facility, Virginia, USA",
          "Northrop/LP-0A, Wallops Flight Facility, Virginia, USA",
          "Northrop/LP-0B, Wallops Flight Facility, Virginia, USA",
          "Lockheed/LP-1, Pacific Spaceport Complex, Alaska, USA",
          "Northrop/LP-1, Pacific Spaceport Complex, Alaska, USA",
          "Sandia/LP-41, Kauai, Pacific Missile Range Facility",
          "IRGC/Launch Plateform, Shahrud Missile Test Site",
          "RVSN USSR/Mayak-2, Kapustin Yar, Russia",
          "ISAS/Mu Pad, Uchinoura Space Center, Japan",
          "JAXA/Mu Pad, Uchinoura Space Center, Japan",
          "Northrop/NB-52B Carrier, Cape Canaveral AFS, Florida, USA",
          "Northrop/NB-52B Carrier, Edwards AFB, California, USA",
          "SpaceX/Omelek Island, Ronald Reagan Ballistic Missile Defense Test Site, Marshall Islands, USA",
          "IAI/Pad 1, Palmachim Airbase, Israel",
          "KCST/Pad 1, Sohae Satellite Launching Station, North Korea",
          "KCST/Pad 1, Tonghae Satellite Launching Ground, North Korea",
          "SpaceX/Pad A, Boca Chica, Texas, USA",
          "Rocket Lab/Rocket Lab LC-1A, M?hia Peninsula, New Zealand",
          "Boeing/SLC-17A, Cape Canaveral AFS, Florida, USA",
          "Douglas/SLC-17A, Cape Canaveral AFS, Florida, USA",
          "NASA/SLC-17A, Cape Canaveral AFS, Florida, USA",
          "ULA/SLC-17A, Cape Canaveral AFS, Florida, USA",
          "US Air Force/SLC-17A, Cape Canaveral AFS, Florida, USA",
          "Boeing/SLC-17B, Cape Canaveral AFS, Florida, USA",
          "ULA/SLC-17B, Cape Canaveral AFS, Florida, USA",
          "US Air Force/SLC-17B, Cape Canaveral AFS, Florida, USA",
          "US Air Force/SLC-1E (75-3-5), Vandenberg AFB, California, USA",
          "US Air Force/SLC-1W (75-3-4), Vandenberg AFB, California, USA",
          "US Air Force/SLC-20, Cape Canaveral AFS, Florida, USA",
          "US Air Force/SLC-2E (75-1-1), Vandenberg AFB, California, USA",
          "Boeing/SLC-2W, Vandenberg AFB, California, USA",
          "ULA/SLC-2W, Vandenberg AFB, California, USA",
          "US Air Force/SLC-2W, Vandenberg AFB, California, USA",
          "General Dynamics/SLC-36A, Cape Canaveral AFS, Florida, USA",
          "ILS/SLC-36A, Cape Canaveral AFS, Florida, USA",
          "Lockheed/SLC-36A, Cape Canaveral AFS, Florida, USA",
          "General Dynamics/SLC-36B, Cape Canaveral AFS, Florida, USA",
          "ILS/SLC-36B, Cape Canaveral AFS, Florida, USA",
          "Lockheed/SLC-36B, Cape Canaveral AFS, Florida, USA",
          "Boeing/SLC-37B, Cape Canaveral AFS, Florida, USA",
          "NASA/SLC-37B, Cape Canaveral AFS, Florida, USA",
          "ULA/SLC-37B, Cape Canaveral AFS, Florida, USA",
          "General Dynamics/SLC-3E, Vandenberg AFB, California, USA",
          "Lockheed/SLC-3E, Vandenberg AFB, California, USA",
          "ULA/SLC-3E, Vandenberg AFB, California, USA",
          "General Dynamics/SLC-3W, Vandenberg AFB, California, USA",
          "Lockheed/SLC-3W, Vandenberg AFB, California, USA",
          "Lockheed/SLC-40, Cape Canaveral AFS, Florida, USA",
          "Martin Marietta/SLC-40, Cape Canaveral AFS, Florida, USA",
          "SpaceX/SLC-40, Cape Canaveral AFS, Florida, USA",
          "ILS/SLC-41, Cape Canaveral AFS, Florida, USA",
          "Lockheed/SLC-41, Cape Canaveral AFS, Florida, USA",
          "Martin Marietta/SLC-41, Cape Canaveral AFS, Florida, USA",
          "ULA/SLC-41, Cape Canaveral AFS, Florida, USA",
          "Lockheed/SLC-46, Cape Canaveral AFS, Florida, USA",
          "Northrop/SLC-46, Cape Canaveral AFS, Florida, USA",
          "General Dynamics/SLC-4E, Vandenberg AFB, California, USA",
          "Lockheed/SLC-4E, Vandenberg AFB, California, USA",
          "Martin Marietta/SLC-4E, Vandenberg AFB, California, USA",
          "SpaceX/SLC-4E, Vandenberg AFB, California, USA",
          "General Dynamics/SLC-4W, Vandenberg AFB, California, USA",
          "Lockheed/SLC-4W, Vandenberg AFB, California, USA",
          "Martin Marietta/SLC-4W, Vandenberg AFB, California, USA",
          "US Air Force/SLC-4W, Vandenberg AFB, California, USA",
          "NASA/SLC-5, Vandenberg AFB, California, USA",
          "US Air Force/SLC-5, Vandenberg AFB, California, USA",
          "Northrop/SLC-576E, Vandenberg AFB, California, USA",
          "Boeing/SLC-6, Vandenberg AFB, California, USA",
          "Lockheed/SLC-6, Vandenberg AFB, California, USA",
          "ULA/SLC-6, Vandenberg AFB, California, USA",
          "Northrop/SLC-8, Vandenberg AFB, California, USA",
          "MHI/SLC-N, Tanegashima Space Center, Japan",
          "ISRO/SLV LP, Satish Dhawan Space Centre, India",
          "ASI/SM Launch Tab, San Marco Launch Platform, Kenya",
          "ASI/Santa Rita 2, San Marco Launch Platform, Kenya",
          "ISRO/Second Launch Pad, Satish Dhawan Space Centre, India",
          "RVSN USSR/Site 1/5, Baikonur Cosmodrome, Kazakhstan",
          "Roscosmos/Site 1/5, Baikonur Cosmodrome, Kazakhstan",
          "RVSN USSR/Site 107/1, Kapustin Yar, Russia",
          "VKS RF/Site 107/1, Kapustin Yar, Russia",
          "Kosmotras/Site 109/95, Baikonur Cosmodrome, Kazakhstan",
          "RVSN USSR/Site 110/37, Baikonur Cosmodrome, Kazakhstan",
          "RVSN USSR/Site 110/38, Baikonur Cosmodrome, Kazakhstan",
          "RVSN USSR/Site 131/29, Baikonur Cosmodrome, Kazakhstan",
          "RVSN USSR/Site 132/1, Plesetsk Cosmodrome, Russia",
          "VKS RF/Site 132/1, Plesetsk Cosmodrome, Russia",
          "RVSN USSR/Site 132/2, Plesetsk Cosmodrome, Russia",
          "Eurockot/Site 133/3, Plesetsk Cosmodrome, Russia",
          "RVSN USSR/Site 133/3, Plesetsk Cosmodrome, Russia",
          "VKS RF/Site 133/3, Plesetsk Cosmodrome, Russia",
          "CASC/Site 138 (LA-2B), Jiuquan Satellite Launch Center, China",
          "MITT/Site 158, Plesetsk Cosmodrome, Russia",
          "RVSN USSR/Site 16/2, Plesetsk Cosmodrome, Russia",
          "VKS RF/Site 16/2, Plesetsk Cosmodrome, Russia",
          "RVSN USSR/Site 161/35, Baikonur Cosmodrome, Kazakhstan",
          "RVSN USSR/Site 162, Baikonur Cosmodrome, Kazakhstan",
          "RVSN USSR/Site 175/58, Baikonur Cosmodrome, Kazakhstan",
          "VKS RF/Site 175/58, Baikonur Cosmodrome, Kazakhstan",
          "VKS RF/Site 175/59, Baikonur Cosmodrome, Kazakhstan",
          "RVSN USSR/Site 191/66, Baikonur Cosmodrome, Kazakhstan",
          "Roscosmos/Site 1S, Vostochny Cosmodrome, Russia",
          "ILS/Site 200/39, Baikonur Cosmodrome, Kazakhstan",
          "Roscosmos/Site 200/39, Baikonur Cosmodrome, Kazakhstan",
          "VKS RF/Site 200/39, Baikonur Cosmodrome, Kazakhstan",
          "RVSN USSR/Site 250, Baikonur Cosmodrome, Kazakhstan",
          "Arianespace/Site 31/6, Baikonur Cosmodrome, Kazakhstan",
          "RVSN USSR/Site 31/6, Baikonur Cosmodrome, Kazakhstan",
          "Roscosmos/Site 31/6, Baikonur Cosmodrome, Kazakhstan",
          "Starsem/Site 31/6, Baikonur Cosmodrome, Kazakhstan",
          "VKS RF/Site 31/6, Baikonur Cosmodrome, Kazakhstan",
          "RVSN USSR/Site 32/1, Plesetsk Cosmodrome, Russia",
          "VKS RF/Site 32/1, Plesetsk Cosmodrome, Russia",
          "RVSN USSR/Site 32/2, Plesetsk Cosmodrome, Russia",
          "VKS RF/Site 32/2, Plesetsk Cosmodrome, Russia",
          "Yuzhmash/Site 32/2, Plesetsk Cosmodrome, Russia",
          "Khrunichev/Site 35/1, Plesetsk Cosmodrome, Russia",
          "VKS RF/Site 35/1, Plesetsk Cosmodrome, Russia",
          "Kosmotras/Site 370/13, Yasny Cosmodrome, Russia",
          "RVSN USSR/Site 41/1, Plesetsk Cosmodrome, Russia",
          "OKB-586/Site 41/15, Baikonur Cosmodrome, Kazakhstan",
          "RVSN USSR/Site 41/15, Baikonur Cosmodrome, Kazakhstan",
          "RVSN USSR/Site 43/3, Plesetsk Cosmodrome, Russia",
          "VKS RF/Site 43/3, Plesetsk Cosmodrome, Russia",
          "RVSN USSR/Site 43/4, Plesetsk Cosmodrome, Russia",
          "Roscosmos/Site 43/4, Plesetsk Cosmodrome, Russia",
          "VKS RF/Site 43/4, Plesetsk Cosmodrome, Russia",
          "Land Launch/Site 45/1, Baikonur Cosmodrome, Kazakhstan",
          "RVSN USSR/Site 45/1, Baikonur Cosmodrome, Kazakhstan",
          "Roscosmos/Site 45/1, Baikonur Cosmodrome, Kazakhstan",
          "VKS RF/Site 45/1, Baikonur Cosmodrome, Kazakhstan",
          "RVSN USSR/Site 45/2, Baikonur Cosmodrome, Kazakhstan",
          "CASC/Site 5020 (LA-2A), Jiuquan Satellite Launch Center, China",
          "ILS/Site 81/23, Baikonur Cosmodrome, Kazakhstan",
          "RVSN USSR/Site 81/23, Baikonur Cosmodrome, Kazakhstan",
          "ILS/Site 81/24, Baikonur Cosmodrome, Kazakhstan",
          "RVSN USSR/Site 81/24, Baikonur Cosmodrome, Kazakhstan",
          "Roscosmos/Site 81/24, Baikonur Cosmodrome, Kazakhstan",
          "VKS RF/Site 81/24, Baikonur Cosmodrome, Kazakhstan",
          "RVSN USSR/Site 86/1, Kapustin Yar, Russia",
          "RVSN USSR/Site 90/19, Baikonur Cosmodrome, Kazakhstan",
          "RVSN USSR/Site 90/20, Baikonur Cosmodrome, Kazakhstan",
          "VKS RF/Site 90/20, Baikonur Cosmodrome, Kazakhstan",
          "Yuzhmash/Site 90/20, Baikonur Cosmodrome, Kazakhstan",
          "CASC/Site 901 (SLS-1), Jiuquan Satellite Launch Center, China",
          "CASC/Site 9401 (SLS-2), Jiuquan Satellite Launch Center, China",
          "ExPace/Site 9401 (SLS-2), Jiuquan Satellite Launch Center, China",
          "CASC/Site 95, Jiuquan Satellite Launch Center, China",
          "CASIC/Site 95, Jiuquan Satellite Launch Center, China",
          "ExPace/Site 95, Jiuquan Satellite Launch Center, China",
          "Landspace/Site 95, Jiuquan Satellite Launch Center, China",
          "OneSpace/Site 95, Jiuquan Satellite Launch Center, China",
          "i-Space/Site 95, Jiuquan Satellite Launch Center, China",
          "Northrop/Stargazer, Base Aerea de Gando, Gran Canaria",
          "Northrop/Stargazer, Cape Canaveral AFS, Florida, USA",
          "Northrop/Stargazer, Ronald Reagan Ballistic Missile Defense Test Site, Marshall Islands, USA",
          "Northrop/Stargazer, Vandenberg AFB, California, USA",
          "Northrop/Stargazer, Wallops Flight Facility, Virginia, USA",
          "MITT/Svobodny Cosmodrome, Russia",
          "CASC/Tai Rui Barge, Yellow Sea",
          "CASC/Taiyuan Satellite Launch Center, China",
          "CASIC/Taiyuan Satellite Launch Center, China",
          "ExPace/Taiyuan Satellite Launch Center, China",
          "JAXA/Uchinoura Space Center, Japan",
          "UT/Uchinoura Space Center, Japan",
          "AEB/VLS Pad, Alc?›ntara Launch Center, Maranh?œo, Brazil",
          "Exos/Vertical Launch Area, Spaceport America, New Mexico",
          "CASC/Xichang Satellite Launch Center, China",
          "AEB",
          "AMBA",
          "ASI",
          "Arianespace",
          "Arm??e de l'Air",
          "Blue Origin",
          "Boeing",
          "CASC",
          "CASIC",
          "CECLES",
          "CNES",
          "Douglas",
          "EER",
          "ESA",
          "Eurockot",
          "ExPace",
          "Exos",
          "General Dynamics",
          "IAI",
          "ILS",
          "IRGC",
          "ISA",
          "ISAS",
          "ISRO",
          "JAXA",
          "KARI",
          "KCST",
          "Khrunichev",
          "Kosmotras",
          "Land Launch",
          "Landspace",
          "Lockheed",
          "MHI",
          "MITT",
          "Martin Marietta",
          "NASA",
          "Northrop",
          "OKB-586",
          "OneSpace",
          "RAE",
          "RVSN USSR",
          "Rocket Lab",
          "Roscosmos",
          "SRC",
          "Sandia",
          "Sea Launch",
          "SpaceX",
          "Starsem",
          "ULA",
          "US Air Force",
          "US Navy",
          "UT",
          "VKS RF",
          "Virgin Orbit",
          "Yuzhmash",
          "i-Space"
         ],
         "labels": [
          "Blue Origin Launch Site, West Texas, Texas, USA",
          "Brigitte, Hammaguir, Algeria, France",
          "Cosmic Girl, Mojave Air and Space Port, California, USA",
          "Douglas F4D Skyray, Naval Air Station Point Mugu, California, USA",
          "ELA-1, Guiana Space Centre, French Guiana, France",
          "ELA-1, Guiana Space Centre, French Guiana, France",
          "ELA-2, Guiana Space Centre, French Guiana, France",
          "ELA-2, Guiana Space Centre, French Guiana, France",
          "ELA-3, Guiana Space Centre, French Guiana, France",
          "ELA-3, Guiana Space Centre, French Guiana, France",
          "ELD, Guiana Space Centre, French Guiana, France",
          "ELS, Guiana Space Centre, French Guiana, France",
          "ELV-1 (SLV), Guiana Space Centre, French Guiana, France",
          "ELV-1 (SLV), Guiana Space Centre, French Guiana, France",
          "First Launch Pad, Satish Dhawan Space Centre, India",
          "Imam Khomeini Spaceport, Semnan Space Center, Iran",
          "Jiuquan Satellite Launch Center, China",
          "K-407 Submarine, Barents Sea Launch Area, Barents Sea",
          "K-496 Submarine, Barents Sea Launch Area, Barents Sea",
          "K-84 Submarine, Barents Sea Launch Area, Barents Sea",
          "LA-3, Wallops Flight Facility, Virginia, USA",
          "LA-5B, RAAF Woomera Range Complex, Australia",
          "LA-5B, RAAF Woomera Range Complex, Australia",
          "LA-5B, RAAF Woomera Range Complex, Australia",
          "LA-Y1, Tanegashima Space Center, Japan",
          "LA-Y1, Tanegashima Space Center, Japan",
          "LA-Y2, Tanegashima Space Center, Japan",
          "LC-1, Naro Space Center, South Korea",
          "LC-101, Wenchang Satellite Launch Center, China",
          "LC-11, Cape Canaveral AFS, Florida, USA",
          "LC-12, Cape Canaveral AFS, Florida, USA",
          "LC-13, Cape Canaveral AFS, Florida, USA",
          "LC-14, Cape Canaveral AFS, Florida, USA",
          "LC-14, Cape Canaveral AFS, Florida, USA",
          "LC-16, Taiyuan Satellite Launch Center, China",
          "LC-18A, Cape Canaveral AFS, Florida, USA",
          "LC-18B, Cape Canaveral AFS, Florida, USA",
          "LC-19, Cape Canaveral AFS, Florida, USA",
          "LC-2, Xichang Satellite Launch Center, China",
          "LC-201, Wenchang Satellite Launch Center, China",
          "LC-26A, Cape Canaveral AFS, Florida, USA",
          "LC-3, Xichang Satellite Launch Center, China",
          "LC-34, Cape Canaveral AFS, Florida, USA",
          "LC-39A, Kennedy Space Center, Florida, USA",
          "LC-39A, Kennedy Space Center, Florida, USA",
          "LC-39B, Kennedy Space Center, Florida, USA",
          "LC-5, Cape Canaveral AFS, Florida, USA",
          "LC-5, Cape Canaveral AFS, Florida, USA",
          "LC-576A1, Vandenberg AFB, California, USA",
          "LC-576A2, Vandenberg AFB, California, USA",
          "LC-576B3, Vandenberg AFB, California, USA",
          "LC-7, Taiyuan Satellite Launch Center, China",
          "LC-9, Taiyuan Satellite Launch Center, China",
          "LP Odyssey, Kiritimati Launch Area, Pacific Ocean",
          "LP-0A, Wallops Flight Facility, Virginia, USA",
          "LP-0A, Wallops Flight Facility, Virginia, USA",
          "LP-0B, Wallops Flight Facility, Virginia, USA",
          "LP-1, Pacific Spaceport Complex, Alaska, USA",
          "LP-1, Pacific Spaceport Complex, Alaska, USA",
          "LP-41, Kauai, Pacific Missile Range Facility",
          "Launch Plateform, Shahrud Missile Test Site",
          "Mayak-2, Kapustin Yar, Russia",
          "Mu Pad, Uchinoura Space Center, Japan",
          "Mu Pad, Uchinoura Space Center, Japan",
          "NB-52B Carrier, Cape Canaveral AFS, Florida, USA",
          "NB-52B Carrier, Edwards AFB, California, USA",
          "Omelek Island, Ronald Reagan Ballistic Missile Defense Test Site, Marshall Islands, USA",
          "Pad 1, Palmachim Airbase, Israel",
          "Pad 1, Sohae Satellite Launching Station, North Korea",
          "Pad 1, Tonghae Satellite Launching Ground, North Korea",
          "Pad A, Boca Chica, Texas, USA",
          "Rocket Lab LC-1A, M?hia Peninsula, New Zealand",
          "SLC-17A, Cape Canaveral AFS, Florida, USA",
          "SLC-17A, Cape Canaveral AFS, Florida, USA",
          "SLC-17A, Cape Canaveral AFS, Florida, USA",
          "SLC-17A, Cape Canaveral AFS, Florida, USA",
          "SLC-17A, Cape Canaveral AFS, Florida, USA",
          "SLC-17B, Cape Canaveral AFS, Florida, USA",
          "SLC-17B, Cape Canaveral AFS, Florida, USA",
          "SLC-17B, Cape Canaveral AFS, Florida, USA",
          "SLC-1E (75-3-5), Vandenberg AFB, California, USA",
          "SLC-1W (75-3-4), Vandenberg AFB, California, USA",
          "SLC-20, Cape Canaveral AFS, Florida, USA",
          "SLC-2E (75-1-1), Vandenberg AFB, California, USA",
          "SLC-2W, Vandenberg AFB, California, USA",
          "SLC-2W, Vandenberg AFB, California, USA",
          "SLC-2W, Vandenberg AFB, California, USA",
          "SLC-36A, Cape Canaveral AFS, Florida, USA",
          "SLC-36A, Cape Canaveral AFS, Florida, USA",
          "SLC-36A, Cape Canaveral AFS, Florida, USA",
          "SLC-36B, Cape Canaveral AFS, Florida, USA",
          "SLC-36B, Cape Canaveral AFS, Florida, USA",
          "SLC-36B, Cape Canaveral AFS, Florida, USA",
          "SLC-37B, Cape Canaveral AFS, Florida, USA",
          "SLC-37B, Cape Canaveral AFS, Florida, USA",
          "SLC-37B, Cape Canaveral AFS, Florida, USA",
          "SLC-3E, Vandenberg AFB, California, USA",
          "SLC-3E, Vandenberg AFB, California, USA",
          "SLC-3E, Vandenberg AFB, California, USA",
          "SLC-3W, Vandenberg AFB, California, USA",
          "SLC-3W, Vandenberg AFB, California, USA",
          "SLC-40, Cape Canaveral AFS, Florida, USA",
          "SLC-40, Cape Canaveral AFS, Florida, USA",
          "SLC-40, Cape Canaveral AFS, Florida, USA",
          "SLC-41, Cape Canaveral AFS, Florida, USA",
          "SLC-41, Cape Canaveral AFS, Florida, USA",
          "SLC-41, Cape Canaveral AFS, Florida, USA",
          "SLC-41, Cape Canaveral AFS, Florida, USA",
          "SLC-46, Cape Canaveral AFS, Florida, USA",
          "SLC-46, Cape Canaveral AFS, Florida, USA",
          "SLC-4E, Vandenberg AFB, California, USA",
          "SLC-4E, Vandenberg AFB, California, USA",
          "SLC-4E, Vandenberg AFB, California, USA",
          "SLC-4E, Vandenberg AFB, California, USA",
          "SLC-4W, Vandenberg AFB, California, USA",
          "SLC-4W, Vandenberg AFB, California, USA",
          "SLC-4W, Vandenberg AFB, California, USA",
          "SLC-4W, Vandenberg AFB, California, USA",
          "SLC-5, Vandenberg AFB, California, USA",
          "SLC-5, Vandenberg AFB, California, USA",
          "SLC-576E, Vandenberg AFB, California, USA",
          "SLC-6, Vandenberg AFB, California, USA",
          "SLC-6, Vandenberg AFB, California, USA",
          "SLC-6, Vandenberg AFB, California, USA",
          "SLC-8, Vandenberg AFB, California, USA",
          "SLC-N, Tanegashima Space Center, Japan",
          "SLV LP, Satish Dhawan Space Centre, India",
          "SM Launch Tab, San Marco Launch Platform, Kenya",
          "Santa Rita 2, San Marco Launch Platform, Kenya",
          "Second Launch Pad, Satish Dhawan Space Centre, India",
          "Site 1/5, Baikonur Cosmodrome, Kazakhstan",
          "Site 1/5, Baikonur Cosmodrome, Kazakhstan",
          "Site 107/1, Kapustin Yar, Russia",
          "Site 107/1, Kapustin Yar, Russia",
          "Site 109/95, Baikonur Cosmodrome, Kazakhstan",
          "Site 110/37, Baikonur Cosmodrome, Kazakhstan",
          "Site 110/38, Baikonur Cosmodrome, Kazakhstan",
          "Site 131/29, Baikonur Cosmodrome, Kazakhstan",
          "Site 132/1, Plesetsk Cosmodrome, Russia",
          "Site 132/1, Plesetsk Cosmodrome, Russia",
          "Site 132/2, Plesetsk Cosmodrome, Russia",
          "Site 133/3, Plesetsk Cosmodrome, Russia",
          "Site 133/3, Plesetsk Cosmodrome, Russia",
          "Site 133/3, Plesetsk Cosmodrome, Russia",
          "Site 138 (LA-2B), Jiuquan Satellite Launch Center, China",
          "Site 158, Plesetsk Cosmodrome, Russia",
          "Site 16/2, Plesetsk Cosmodrome, Russia",
          "Site 16/2, Plesetsk Cosmodrome, Russia",
          "Site 161/35, Baikonur Cosmodrome, Kazakhstan",
          "Site 162, Baikonur Cosmodrome, Kazakhstan",
          "Site 175/58, Baikonur Cosmodrome, Kazakhstan",
          "Site 175/58, Baikonur Cosmodrome, Kazakhstan",
          "Site 175/59, Baikonur Cosmodrome, Kazakhstan",
          "Site 191/66, Baikonur Cosmodrome, Kazakhstan",
          "Site 1S, Vostochny Cosmodrome, Russia",
          "Site 200/39, Baikonur Cosmodrome, Kazakhstan",
          "Site 200/39, Baikonur Cosmodrome, Kazakhstan",
          "Site 200/39, Baikonur Cosmodrome, Kazakhstan",
          "Site 250, Baikonur Cosmodrome, Kazakhstan",
          "Site 31/6, Baikonur Cosmodrome, Kazakhstan",
          "Site 31/6, Baikonur Cosmodrome, Kazakhstan",
          "Site 31/6, Baikonur Cosmodrome, Kazakhstan",
          "Site 31/6, Baikonur Cosmodrome, Kazakhstan",
          "Site 31/6, Baikonur Cosmodrome, Kazakhstan",
          "Site 32/1, Plesetsk Cosmodrome, Russia",
          "Site 32/1, Plesetsk Cosmodrome, Russia",
          "Site 32/2, Plesetsk Cosmodrome, Russia",
          "Site 32/2, Plesetsk Cosmodrome, Russia",
          "Site 32/2, Plesetsk Cosmodrome, Russia",
          "Site 35/1, Plesetsk Cosmodrome, Russia",
          "Site 35/1, Plesetsk Cosmodrome, Russia",
          "Site 370/13, Yasny Cosmodrome, Russia",
          "Site 41/1, Plesetsk Cosmodrome, Russia",
          "Site 41/15, Baikonur Cosmodrome, Kazakhstan",
          "Site 41/15, Baikonur Cosmodrome, Kazakhstan",
          "Site 43/3, Plesetsk Cosmodrome, Russia",
          "Site 43/3, Plesetsk Cosmodrome, Russia",
          "Site 43/4, Plesetsk Cosmodrome, Russia",
          "Site 43/4, Plesetsk Cosmodrome, Russia",
          "Site 43/4, Plesetsk Cosmodrome, Russia",
          "Site 45/1, Baikonur Cosmodrome, Kazakhstan",
          "Site 45/1, Baikonur Cosmodrome, Kazakhstan",
          "Site 45/1, Baikonur Cosmodrome, Kazakhstan",
          "Site 45/1, Baikonur Cosmodrome, Kazakhstan",
          "Site 45/2, Baikonur Cosmodrome, Kazakhstan",
          "Site 5020 (LA-2A), Jiuquan Satellite Launch Center, China",
          "Site 81/23, Baikonur Cosmodrome, Kazakhstan",
          "Site 81/23, Baikonur Cosmodrome, Kazakhstan",
          "Site 81/24, Baikonur Cosmodrome, Kazakhstan",
          "Site 81/24, Baikonur Cosmodrome, Kazakhstan",
          "Site 81/24, Baikonur Cosmodrome, Kazakhstan",
          "Site 81/24, Baikonur Cosmodrome, Kazakhstan",
          "Site 86/1, Kapustin Yar, Russia",
          "Site 90/19, Baikonur Cosmodrome, Kazakhstan",
          "Site 90/20, Baikonur Cosmodrome, Kazakhstan",
          "Site 90/20, Baikonur Cosmodrome, Kazakhstan",
          "Site 90/20, Baikonur Cosmodrome, Kazakhstan",
          "Site 901 (SLS-1), Jiuquan Satellite Launch Center, China",
          "Site 9401 (SLS-2), Jiuquan Satellite Launch Center, China",
          "Site 9401 (SLS-2), Jiuquan Satellite Launch Center, China",
          "Site 95, Jiuquan Satellite Launch Center, China",
          "Site 95, Jiuquan Satellite Launch Center, China",
          "Site 95, Jiuquan Satellite Launch Center, China",
          "Site 95, Jiuquan Satellite Launch Center, China",
          "Site 95, Jiuquan Satellite Launch Center, China",
          "Site 95, Jiuquan Satellite Launch Center, China",
          "Stargazer, Base Aerea de Gando, Gran Canaria",
          "Stargazer, Cape Canaveral AFS, Florida, USA",
          "Stargazer, Ronald Reagan Ballistic Missile Defense Test Site, Marshall Islands, USA",
          "Stargazer, Vandenberg AFB, California, USA",
          "Stargazer, Wallops Flight Facility, Virginia, USA",
          "Svobodny Cosmodrome, Russia",
          "Tai Rui Barge, Yellow Sea",
          "Taiyuan Satellite Launch Center, China",
          "Taiyuan Satellite Launch Center, China",
          "Taiyuan Satellite Launch Center, China",
          "Uchinoura Space Center, Japan",
          "Uchinoura Space Center, Japan",
          "VLS Pad, Alc?›ntara Launch Center, Maranh?œo, Brazil",
          "Vertical Launch Area, Spaceport America, New Mexico",
          "Xichang Satellite Launch Center, China",
          "AEB",
          "AMBA",
          "ASI",
          "Arianespace",
          "Arm??e de l'Air",
          "Blue Origin",
          "Boeing",
          "CASC",
          "CASIC",
          "CECLES",
          "CNES",
          "Douglas",
          "EER",
          "ESA",
          "Eurockot",
          "ExPace",
          "Exos",
          "General Dynamics",
          "IAI",
          "ILS",
          "IRGC",
          "ISA",
          "ISAS",
          "ISRO",
          "JAXA",
          "KARI",
          "KCST",
          "Khrunichev",
          "Kosmotras",
          "Land Launch",
          "Landspace",
          "Lockheed",
          "MHI",
          "MITT",
          "Martin Marietta",
          "NASA",
          "Northrop",
          "OKB-586",
          "OneSpace",
          "RAE",
          "RVSN USSR",
          "Rocket Lab",
          "Roscosmos",
          "SRC",
          "Sandia",
          "Sea Launch",
          "SpaceX",
          "Starsem",
          "ULA",
          "US Air Force",
          "US Navy",
          "UT",
          "VKS RF",
          "Virgin Orbit",
          "Yuzhmash",
          "i-Space"
         ],
         "name": "",
         "parents": [
          "Blue Origin",
          "Arm??e de l'Air",
          "Virgin Orbit",
          "US Navy",
          "Arianespace",
          "CECLES",
          "Arianespace",
          "ESA",
          "Arianespace",
          "ESA",
          "CNES",
          "Arianespace",
          "Arianespace",
          "ESA",
          "ISRO",
          "ISA",
          "CASIC",
          "SRC",
          "SRC",
          "SRC",
          "NASA",
          "AMBA",
          "CECLES",
          "RAE",
          "JAXA",
          "MHI",
          "MHI",
          "KARI",
          "CASC",
          "US Air Force",
          "General Dynamics",
          "General Dynamics",
          "General Dynamics",
          "NASA",
          "CASC",
          "US Navy",
          "NASA",
          "NASA",
          "CASC",
          "CASC",
          "AMBA",
          "CASC",
          "NASA",
          "NASA",
          "SpaceX",
          "NASA",
          "AMBA",
          "NASA",
          "General Dynamics",
          "General Dynamics",
          "General Dynamics",
          "CASC",
          "CASC",
          "Sea Launch",
          "EER",
          "Northrop",
          "Northrop",
          "Lockheed",
          "Northrop",
          "Sandia",
          "IRGC",
          "RVSN USSR",
          "ISAS",
          "JAXA",
          "Northrop",
          "Northrop",
          "SpaceX",
          "IAI",
          "KCST",
          "KCST",
          "SpaceX",
          "Rocket Lab",
          "Boeing",
          "Douglas",
          "NASA",
          "ULA",
          "US Air Force",
          "Boeing",
          "ULA",
          "US Air Force",
          "US Air Force",
          "US Air Force",
          "US Air Force",
          "US Air Force",
          "Boeing",
          "ULA",
          "US Air Force",
          "General Dynamics",
          "ILS",
          "Lockheed",
          "General Dynamics",
          "ILS",
          "Lockheed",
          "Boeing",
          "NASA",
          "ULA",
          "General Dynamics",
          "Lockheed",
          "ULA",
          "General Dynamics",
          "Lockheed",
          "Lockheed",
          "Martin Marietta",
          "SpaceX",
          "ILS",
          "Lockheed",
          "Martin Marietta",
          "ULA",
          "Lockheed",
          "Northrop",
          "General Dynamics",
          "Lockheed",
          "Martin Marietta",
          "SpaceX",
          "General Dynamics",
          "Lockheed",
          "Martin Marietta",
          "US Air Force",
          "NASA",
          "US Air Force",
          "Northrop",
          "Boeing",
          "Lockheed",
          "ULA",
          "Northrop",
          "MHI",
          "ISRO",
          "ASI",
          "ASI",
          "ISRO",
          "RVSN USSR",
          "Roscosmos",
          "RVSN USSR",
          "VKS RF",
          "Kosmotras",
          "RVSN USSR",
          "RVSN USSR",
          "RVSN USSR",
          "RVSN USSR",
          "VKS RF",
          "RVSN USSR",
          "Eurockot",
          "RVSN USSR",
          "VKS RF",
          "CASC",
          "MITT",
          "RVSN USSR",
          "VKS RF",
          "RVSN USSR",
          "RVSN USSR",
          "RVSN USSR",
          "VKS RF",
          "VKS RF",
          "RVSN USSR",
          "Roscosmos",
          "ILS",
          "Roscosmos",
          "VKS RF",
          "RVSN USSR",
          "Arianespace",
          "RVSN USSR",
          "Roscosmos",
          "Starsem",
          "VKS RF",
          "RVSN USSR",
          "VKS RF",
          "RVSN USSR",
          "VKS RF",
          "Yuzhmash",
          "Khrunichev",
          "VKS RF",
          "Kosmotras",
          "RVSN USSR",
          "OKB-586",
          "RVSN USSR",
          "RVSN USSR",
          "VKS RF",
          "RVSN USSR",
          "Roscosmos",
          "VKS RF",
          "Land Launch",
          "RVSN USSR",
          "Roscosmos",
          "VKS RF",
          "RVSN USSR",
          "CASC",
          "ILS",
          "RVSN USSR",
          "ILS",
          "RVSN USSR",
          "Roscosmos",
          "VKS RF",
          "RVSN USSR",
          "RVSN USSR",
          "RVSN USSR",
          "VKS RF",
          "Yuzhmash",
          "CASC",
          "CASC",
          "ExPace",
          "CASC",
          "CASIC",
          "ExPace",
          "Landspace",
          "OneSpace",
          "i-Space",
          "Northrop",
          "Northrop",
          "Northrop",
          "Northrop",
          "Northrop",
          "MITT",
          "CASC",
          "CASC",
          "CASIC",
          "ExPace",
          "JAXA",
          "UT",
          "AEB",
          "Exos",
          "CASC",
          "",
          "",
          "",
          "",
          "",
          "",
          "",
          "",
          "",
          "",
          "",
          "",
          "",
          "",
          "",
          "",
          "",
          "",
          "",
          "",
          "",
          "",
          "",
          "",
          "",
          "",
          "",
          "",
          "",
          "",
          "",
          "",
          "",
          "",
          "",
          "",
          "",
          "",
          "",
          "",
          "",
          "",
          "",
          "",
          "",
          "",
          "",
          "",
          "",
          "",
          "",
          "",
          "",
          "",
          "",
          ""
         ],
         "type": "sunburst",
         "values": [
          12,
          4,
          1,
          6,
          14,
          1,
          117,
          1,
          106,
          3,
          8,
          23,
          17,
          9,
          42,
          13,
          1,
          1,
          1,
          1,
          6,
          1,
          3,
          2,
          1,
          72,
          9,
          3,
          5,
          1,
          21,
          21,
          10,
          10,
          3,
          11,
          1,
          12,
          60,
          3,
          2,
          42,
          5,
          97,
          23,
          56,
          5,
          6,
          1,
          4,
          7,
          22,
          21,
          36,
          1,
          12,
          7,
          1,
          2,
          1,
          1,
          25,
          30,
          4,
          1,
          5,
          5,
          11,
          3,
          2,
          1,
          13,
          53,
          1,
          2,
          6,
          18,
          48,
          6,
          13,
          21,
          28,
          4,
          10,
          28,
          18,
          3,
          37,
          12,
          21,
          44,
          20,
          11,
          5,
          7,
          27,
          25,
          3,
          15,
          42,
          1,
          15,
          40,
          56,
          8,
          5,
          22,
          62,
          2,
          1,
          27,
          8,
          33,
          15,
          12,
          8,
          19,
          54,
          1,
          9,
          10,
          2,
          4,
          6,
          7,
          3,
          8,
          8,
          1,
          26,
          174,
          19,
          18,
          1,
          12,
          3,
          2,
          1,
          170,
          46,
          174,
          13,
          121,
          24,
          29,
          2,
          33,
          18,
          8,
          8,
          1,
          1,
          3,
          2,
          5,
          3,
          3,
          2,
          1,
          2,
          212,
          18,
          1,
          2,
          46,
          12,
          51,
          12,
          1,
          1,
          1,
          10,
          198,
          2,
          12,
          123,
          15,
          171,
          3,
          28,
          7,
          15,
          4,
          20,
          2,
          3,
          1,
          20,
          2,
          18,
          3,
          3,
          68,
          45,
          55,
          13,
          1,
          13,
          36,
          1,
          8,
          2,
          8,
          1,
          1,
          1,
          2,
          6,
          4,
          21,
          5,
          5,
          1,
          4,
          2,
          1,
          2,
          5,
          3,
          4,
          1,
          3,
          8,
          9,
          279,
          4,
          12,
          136,
          251,
          5,
          4,
          8,
          1,
          1,
          13,
          13,
          10,
          4,
          251,
          11,
          46,
          1,
          13,
          30,
          76,
          7,
          3,
          5,
          1,
          22,
          7,
          1,
          79,
          84,
          7,
          114,
          203,
          83,
          2,
          1,
          2,
          1777,
          13,
          55,
          3,
          1,
          36,
          100,
          1,
          140,
          161,
          17,
          5,
          201,
          1,
          2,
          1
         ]
        }
       ],
       "layout": {
        "coloraxis": {
         "showscale": false
        },
        "legend": {
         "tracegroupgap": 0
        },
        "template": {
         "data": {
          "bar": [
           {
            "error_x": {
             "color": "#2a3f5f"
            },
            "error_y": {
             "color": "#2a3f5f"
            },
            "marker": {
             "line": {
              "color": "#E5ECF6",
              "width": 0.5
             },
             "pattern": {
              "fillmode": "overlay",
              "size": 10,
              "solidity": 0.2
             }
            },
            "type": "bar"
           }
          ],
          "barpolar": [
           {
            "marker": {
             "line": {
              "color": "#E5ECF6",
              "width": 0.5
             },
             "pattern": {
              "fillmode": "overlay",
              "size": 10,
              "solidity": 0.2
             }
            },
            "type": "barpolar"
           }
          ],
          "carpet": [
           {
            "aaxis": {
             "endlinecolor": "#2a3f5f",
             "gridcolor": "white",
             "linecolor": "white",
             "minorgridcolor": "white",
             "startlinecolor": "#2a3f5f"
            },
            "baxis": {
             "endlinecolor": "#2a3f5f",
             "gridcolor": "white",
             "linecolor": "white",
             "minorgridcolor": "white",
             "startlinecolor": "#2a3f5f"
            },
            "type": "carpet"
           }
          ],
          "choropleth": [
           {
            "colorbar": {
             "outlinewidth": 0,
             "ticks": ""
            },
            "type": "choropleth"
           }
          ],
          "contour": [
           {
            "colorbar": {
             "outlinewidth": 0,
             "ticks": ""
            },
            "colorscale": [
             [
              0,
              "#0d0887"
             ],
             [
              0.1111111111111111,
              "#46039f"
             ],
             [
              0.2222222222222222,
              "#7201a8"
             ],
             [
              0.3333333333333333,
              "#9c179e"
             ],
             [
              0.4444444444444444,
              "#bd3786"
             ],
             [
              0.5555555555555556,
              "#d8576b"
             ],
             [
              0.6666666666666666,
              "#ed7953"
             ],
             [
              0.7777777777777778,
              "#fb9f3a"
             ],
             [
              0.8888888888888888,
              "#fdca26"
             ],
             [
              1,
              "#f0f921"
             ]
            ],
            "type": "contour"
           }
          ],
          "contourcarpet": [
           {
            "colorbar": {
             "outlinewidth": 0,
             "ticks": ""
            },
            "type": "contourcarpet"
           }
          ],
          "heatmap": [
           {
            "colorbar": {
             "outlinewidth": 0,
             "ticks": ""
            },
            "colorscale": [
             [
              0,
              "#0d0887"
             ],
             [
              0.1111111111111111,
              "#46039f"
             ],
             [
              0.2222222222222222,
              "#7201a8"
             ],
             [
              0.3333333333333333,
              "#9c179e"
             ],
             [
              0.4444444444444444,
              "#bd3786"
             ],
             [
              0.5555555555555556,
              "#d8576b"
             ],
             [
              0.6666666666666666,
              "#ed7953"
             ],
             [
              0.7777777777777778,
              "#fb9f3a"
             ],
             [
              0.8888888888888888,
              "#fdca26"
             ],
             [
              1,
              "#f0f921"
             ]
            ],
            "type": "heatmap"
           }
          ],
          "heatmapgl": [
           {
            "colorbar": {
             "outlinewidth": 0,
             "ticks": ""
            },
            "colorscale": [
             [
              0,
              "#0d0887"
             ],
             [
              0.1111111111111111,
              "#46039f"
             ],
             [
              0.2222222222222222,
              "#7201a8"
             ],
             [
              0.3333333333333333,
              "#9c179e"
             ],
             [
              0.4444444444444444,
              "#bd3786"
             ],
             [
              0.5555555555555556,
              "#d8576b"
             ],
             [
              0.6666666666666666,
              "#ed7953"
             ],
             [
              0.7777777777777778,
              "#fb9f3a"
             ],
             [
              0.8888888888888888,
              "#fdca26"
             ],
             [
              1,
              "#f0f921"
             ]
            ],
            "type": "heatmapgl"
           }
          ],
          "histogram": [
           {
            "marker": {
             "pattern": {
              "fillmode": "overlay",
              "size": 10,
              "solidity": 0.2
             }
            },
            "type": "histogram"
           }
          ],
          "histogram2d": [
           {
            "colorbar": {
             "outlinewidth": 0,
             "ticks": ""
            },
            "colorscale": [
             [
              0,
              "#0d0887"
             ],
             [
              0.1111111111111111,
              "#46039f"
             ],
             [
              0.2222222222222222,
              "#7201a8"
             ],
             [
              0.3333333333333333,
              "#9c179e"
             ],
             [
              0.4444444444444444,
              "#bd3786"
             ],
             [
              0.5555555555555556,
              "#d8576b"
             ],
             [
              0.6666666666666666,
              "#ed7953"
             ],
             [
              0.7777777777777778,
              "#fb9f3a"
             ],
             [
              0.8888888888888888,
              "#fdca26"
             ],
             [
              1,
              "#f0f921"
             ]
            ],
            "type": "histogram2d"
           }
          ],
          "histogram2dcontour": [
           {
            "colorbar": {
             "outlinewidth": 0,
             "ticks": ""
            },
            "colorscale": [
             [
              0,
              "#0d0887"
             ],
             [
              0.1111111111111111,
              "#46039f"
             ],
             [
              0.2222222222222222,
              "#7201a8"
             ],
             [
              0.3333333333333333,
              "#9c179e"
             ],
             [
              0.4444444444444444,
              "#bd3786"
             ],
             [
              0.5555555555555556,
              "#d8576b"
             ],
             [
              0.6666666666666666,
              "#ed7953"
             ],
             [
              0.7777777777777778,
              "#fb9f3a"
             ],
             [
              0.8888888888888888,
              "#fdca26"
             ],
             [
              1,
              "#f0f921"
             ]
            ],
            "type": "histogram2dcontour"
           }
          ],
          "mesh3d": [
           {
            "colorbar": {
             "outlinewidth": 0,
             "ticks": ""
            },
            "type": "mesh3d"
           }
          ],
          "parcoords": [
           {
            "line": {
             "colorbar": {
              "outlinewidth": 0,
              "ticks": ""
             }
            },
            "type": "parcoords"
           }
          ],
          "pie": [
           {
            "automargin": true,
            "type": "pie"
           }
          ],
          "scatter": [
           {
            "marker": {
             "colorbar": {
              "outlinewidth": 0,
              "ticks": ""
             }
            },
            "type": "scatter"
           }
          ],
          "scatter3d": [
           {
            "line": {
             "colorbar": {
              "outlinewidth": 0,
              "ticks": ""
             }
            },
            "marker": {
             "colorbar": {
              "outlinewidth": 0,
              "ticks": ""
             }
            },
            "type": "scatter3d"
           }
          ],
          "scattercarpet": [
           {
            "marker": {
             "colorbar": {
              "outlinewidth": 0,
              "ticks": ""
             }
            },
            "type": "scattercarpet"
           }
          ],
          "scattergeo": [
           {
            "marker": {
             "colorbar": {
              "outlinewidth": 0,
              "ticks": ""
             }
            },
            "type": "scattergeo"
           }
          ],
          "scattergl": [
           {
            "marker": {
             "colorbar": {
              "outlinewidth": 0,
              "ticks": ""
             }
            },
            "type": "scattergl"
           }
          ],
          "scattermapbox": [
           {
            "marker": {
             "colorbar": {
              "outlinewidth": 0,
              "ticks": ""
             }
            },
            "type": "scattermapbox"
           }
          ],
          "scatterpolar": [
           {
            "marker": {
             "colorbar": {
              "outlinewidth": 0,
              "ticks": ""
             }
            },
            "type": "scatterpolar"
           }
          ],
          "scatterpolargl": [
           {
            "marker": {
             "colorbar": {
              "outlinewidth": 0,
              "ticks": ""
             }
            },
            "type": "scatterpolargl"
           }
          ],
          "scatterternary": [
           {
            "marker": {
             "colorbar": {
              "outlinewidth": 0,
              "ticks": ""
             }
            },
            "type": "scatterternary"
           }
          ],
          "surface": [
           {
            "colorbar": {
             "outlinewidth": 0,
             "ticks": ""
            },
            "colorscale": [
             [
              0,
              "#0d0887"
             ],
             [
              0.1111111111111111,
              "#46039f"
             ],
             [
              0.2222222222222222,
              "#7201a8"
             ],
             [
              0.3333333333333333,
              "#9c179e"
             ],
             [
              0.4444444444444444,
              "#bd3786"
             ],
             [
              0.5555555555555556,
              "#d8576b"
             ],
             [
              0.6666666666666666,
              "#ed7953"
             ],
             [
              0.7777777777777778,
              "#fb9f3a"
             ],
             [
              0.8888888888888888,
              "#fdca26"
             ],
             [
              1,
              "#f0f921"
             ]
            ],
            "type": "surface"
           }
          ],
          "table": [
           {
            "cells": {
             "fill": {
              "color": "#EBF0F8"
             },
             "line": {
              "color": "white"
             }
            },
            "header": {
             "fill": {
              "color": "#C8D4E3"
             },
             "line": {
              "color": "white"
             }
            },
            "type": "table"
           }
          ]
         },
         "layout": {
          "annotationdefaults": {
           "arrowcolor": "#2a3f5f",
           "arrowhead": 0,
           "arrowwidth": 1
          },
          "autotypenumbers": "strict",
          "coloraxis": {
           "colorbar": {
            "outlinewidth": 0,
            "ticks": ""
           }
          },
          "colorscale": {
           "diverging": [
            [
             0,
             "#8e0152"
            ],
            [
             0.1,
             "#c51b7d"
            ],
            [
             0.2,
             "#de77ae"
            ],
            [
             0.3,
             "#f1b6da"
            ],
            [
             0.4,
             "#fde0ef"
            ],
            [
             0.5,
             "#f7f7f7"
            ],
            [
             0.6,
             "#e6f5d0"
            ],
            [
             0.7,
             "#b8e186"
            ],
            [
             0.8,
             "#7fbc41"
            ],
            [
             0.9,
             "#4d9221"
            ],
            [
             1,
             "#276419"
            ]
           ],
           "sequential": [
            [
             0,
             "#0d0887"
            ],
            [
             0.1111111111111111,
             "#46039f"
            ],
            [
             0.2222222222222222,
             "#7201a8"
            ],
            [
             0.3333333333333333,
             "#9c179e"
            ],
            [
             0.4444444444444444,
             "#bd3786"
            ],
            [
             0.5555555555555556,
             "#d8576b"
            ],
            [
             0.6666666666666666,
             "#ed7953"
            ],
            [
             0.7777777777777778,
             "#fb9f3a"
            ],
            [
             0.8888888888888888,
             "#fdca26"
            ],
            [
             1,
             "#f0f921"
            ]
           ],
           "sequentialminus": [
            [
             0,
             "#0d0887"
            ],
            [
             0.1111111111111111,
             "#46039f"
            ],
            [
             0.2222222222222222,
             "#7201a8"
            ],
            [
             0.3333333333333333,
             "#9c179e"
            ],
            [
             0.4444444444444444,
             "#bd3786"
            ],
            [
             0.5555555555555556,
             "#d8576b"
            ],
            [
             0.6666666666666666,
             "#ed7953"
            ],
            [
             0.7777777777777778,
             "#fb9f3a"
            ],
            [
             0.8888888888888888,
             "#fdca26"
            ],
            [
             1,
             "#f0f921"
            ]
           ]
          },
          "colorway": [
           "#636efa",
           "#EF553B",
           "#00cc96",
           "#ab63fa",
           "#FFA15A",
           "#19d3f3",
           "#FF6692",
           "#B6E880",
           "#FF97FF",
           "#FECB52"
          ],
          "font": {
           "color": "#2a3f5f"
          },
          "geo": {
           "bgcolor": "white",
           "lakecolor": "white",
           "landcolor": "#E5ECF6",
           "showlakes": true,
           "showland": true,
           "subunitcolor": "white"
          },
          "hoverlabel": {
           "align": "left"
          },
          "hovermode": "closest",
          "mapbox": {
           "style": "light"
          },
          "paper_bgcolor": "white",
          "plot_bgcolor": "#E5ECF6",
          "polar": {
           "angularaxis": {
            "gridcolor": "white",
            "linecolor": "white",
            "ticks": ""
           },
           "bgcolor": "#E5ECF6",
           "radialaxis": {
            "gridcolor": "white",
            "linecolor": "white",
            "ticks": ""
           }
          },
          "scene": {
           "xaxis": {
            "backgroundcolor": "#E5ECF6",
            "gridcolor": "white",
            "gridwidth": 2,
            "linecolor": "white",
            "showbackground": true,
            "ticks": "",
            "zerolinecolor": "white"
           },
           "yaxis": {
            "backgroundcolor": "#E5ECF6",
            "gridcolor": "white",
            "gridwidth": 2,
            "linecolor": "white",
            "showbackground": true,
            "ticks": "",
            "zerolinecolor": "white"
           },
           "zaxis": {
            "backgroundcolor": "#E5ECF6",
            "gridcolor": "white",
            "gridwidth": 2,
            "linecolor": "white",
            "showbackground": true,
            "ticks": "",
            "zerolinecolor": "white"
           }
          },
          "shapedefaults": {
           "line": {
            "color": "#2a3f5f"
           }
          },
          "ternary": {
           "aaxis": {
            "gridcolor": "white",
            "linecolor": "white",
            "ticks": ""
           },
           "baxis": {
            "gridcolor": "white",
            "linecolor": "white",
            "ticks": ""
           },
           "bgcolor": "#E5ECF6",
           "caxis": {
            "gridcolor": "white",
            "linecolor": "white",
            "ticks": ""
           }
          },
          "title": {
           "x": 0.05
          },
          "xaxis": {
           "automargin": true,
           "gridcolor": "white",
           "linecolor": "white",
           "ticks": "",
           "title": {
            "standoff": 15
           },
           "zerolinecolor": "white",
           "zerolinewidth": 2
          },
          "yaxis": {
           "automargin": true,
           "gridcolor": "white",
           "linecolor": "white",
           "ticks": "",
           "title": {
            "standoff": 15
           },
           "zerolinecolor": "white",
           "zerolinewidth": 2
          }
         }
        },
        "title": {
         "text": "Which companies launch most missions and where?"
        }
       }
      },
      "text/html": [
       "<div>                            <div id=\"de101849-407a-4ce0-a0a9-a29c078c027c\" class=\"plotly-graph-div\" style=\"height:525px; width:100%;\"></div>            <script type=\"text/javascript\">                require([\"plotly\"], function(Plotly) {                    window.PLOTLYENV=window.PLOTLYENV || {};                                    if (document.getElementById(\"de101849-407a-4ce0-a0a9-a29c078c027c\")) {                    Plotly.newPlot(                        \"de101849-407a-4ce0-a0a9-a29c078c027c\",                        [{\"branchvalues\":\"total\",\"domain\":{\"x\":[0.0,1.0],\"y\":[0.0,1.0]},\"hovertemplate\":\"labels=%{label}<br>Launches=%{value}<br>parent=%{parent}<br>id=%{id}<extra></extra>\",\"ids\":[\"Blue Origin/Blue Origin Launch Site, West Texas, Texas, USA\",\"Arm??e de l'Air/Brigitte, Hammaguir, Algeria, France\",\"Virgin Orbit/Cosmic Girl, Mojave Air and Space Port, California, USA\",\"US Navy/Douglas F4D Skyray, Naval Air Station Point Mugu, California, USA\",\"Arianespace/ELA-1, Guiana Space Centre, French Guiana, France\",\"CECLES/ELA-1, Guiana Space Centre, French Guiana, France\",\"Arianespace/ELA-2, Guiana Space Centre, French Guiana, France\",\"ESA/ELA-2, Guiana Space Centre, French Guiana, France\",\"Arianespace/ELA-3, Guiana Space Centre, French Guiana, France\",\"ESA/ELA-3, Guiana Space Centre, French Guiana, France\",\"CNES/ELD, Guiana Space Centre, French Guiana, France\",\"Arianespace/ELS, Guiana Space Centre, French Guiana, France\",\"Arianespace/ELV-1 (SLV), Guiana Space Centre, French Guiana, France\",\"ESA/ELV-1 (SLV), Guiana Space Centre, French Guiana, France\",\"ISRO/First Launch Pad, Satish Dhawan Space Centre, India\",\"ISA/Imam Khomeini Spaceport, Semnan Space Center, Iran\",\"CASIC/Jiuquan Satellite Launch Center, China\",\"SRC/K-407 Submarine, Barents Sea Launch Area, Barents Sea\",\"SRC/K-496 Submarine, Barents Sea Launch Area, Barents Sea\",\"SRC/K-84 Submarine, Barents Sea Launch Area, Barents Sea\",\"NASA/LA-3, Wallops Flight Facility, Virginia, USA\",\"AMBA/LA-5B, RAAF Woomera Range Complex, Australia\",\"CECLES/LA-5B, RAAF Woomera Range Complex, Australia\",\"RAE/LA-5B, RAAF Woomera Range Complex, Australia\",\"JAXA/LA-Y1, Tanegashima Space Center, Japan\",\"MHI/LA-Y1, Tanegashima Space Center, Japan\",\"MHI/LA-Y2, Tanegashima Space Center, Japan\",\"KARI/LC-1, Naro Space Center, South Korea\",\"CASC/LC-101, Wenchang Satellite Launch Center, China\",\"US Air Force/LC-11, Cape Canaveral AFS, Florida, USA\",\"General Dynamics/LC-12, Cape Canaveral AFS, Florida, USA\",\"General Dynamics/LC-13, Cape Canaveral AFS, Florida, USA\",\"General Dynamics/LC-14, Cape Canaveral AFS, Florida, USA\",\"NASA/LC-14, Cape Canaveral AFS, Florida, USA\",\"CASC/LC-16, Taiyuan Satellite Launch Center, China\",\"US Navy/LC-18A, Cape Canaveral AFS, Florida, USA\",\"NASA/LC-18B, Cape Canaveral AFS, Florida, USA\",\"NASA/LC-19, Cape Canaveral AFS, Florida, USA\",\"CASC/LC-2, Xichang Satellite Launch Center, China\",\"CASC/LC-201, Wenchang Satellite Launch Center, China\",\"AMBA/LC-26A, Cape Canaveral AFS, Florida, USA\",\"CASC/LC-3, Xichang Satellite Launch Center, China\",\"NASA/LC-34, Cape Canaveral AFS, Florida, USA\",\"NASA/LC-39A, Kennedy Space Center, Florida, USA\",\"SpaceX/LC-39A, Kennedy Space Center, Florida, USA\",\"NASA/LC-39B, Kennedy Space Center, Florida, USA\",\"AMBA/LC-5, Cape Canaveral AFS, Florida, USA\",\"NASA/LC-5, Cape Canaveral AFS, Florida, USA\",\"General Dynamics/LC-576A1, Vandenberg AFB, California, USA\",\"General Dynamics/LC-576A2, Vandenberg AFB, California, USA\",\"General Dynamics/LC-576B3, Vandenberg AFB, California, USA\",\"CASC/LC-7, Taiyuan Satellite Launch Center, China\",\"CASC/LC-9, Taiyuan Satellite Launch Center, China\",\"Sea Launch/LP Odyssey, Kiritimati Launch Area, Pacific Ocean\",\"EER/LP-0A, Wallops Flight Facility, Virginia, USA\",\"Northrop/LP-0A, Wallops Flight Facility, Virginia, USA\",\"Northrop/LP-0B, Wallops Flight Facility, Virginia, USA\",\"Lockheed/LP-1, Pacific Spaceport Complex, Alaska, USA\",\"Northrop/LP-1, Pacific Spaceport Complex, Alaska, USA\",\"Sandia/LP-41, Kauai, Pacific Missile Range Facility\",\"IRGC/Launch Plateform, Shahrud Missile Test Site\",\"RVSN USSR/Mayak-2, Kapustin Yar, Russia\",\"ISAS/Mu Pad, Uchinoura Space Center, Japan\",\"JAXA/Mu Pad, Uchinoura Space Center, Japan\",\"Northrop/NB-52B Carrier, Cape Canaveral AFS, Florida, USA\",\"Northrop/NB-52B Carrier, Edwards AFB, California, USA\",\"SpaceX/Omelek Island, Ronald Reagan Ballistic Missile Defense Test Site, Marshall Islands, USA\",\"IAI/Pad 1, Palmachim Airbase, Israel\",\"KCST/Pad 1, Sohae Satellite Launching Station, North Korea\",\"KCST/Pad 1, Tonghae Satellite Launching Ground, North Korea\",\"SpaceX/Pad A, Boca Chica, Texas, USA\",\"Rocket Lab/Rocket Lab LC-1A, M?\\u0081hia Peninsula, New Zealand\",\"Boeing/SLC-17A, Cape Canaveral AFS, Florida, USA\",\"Douglas/SLC-17A, Cape Canaveral AFS, Florida, USA\",\"NASA/SLC-17A, Cape Canaveral AFS, Florida, USA\",\"ULA/SLC-17A, Cape Canaveral AFS, Florida, USA\",\"US Air Force/SLC-17A, Cape Canaveral AFS, Florida, USA\",\"Boeing/SLC-17B, Cape Canaveral AFS, Florida, USA\",\"ULA/SLC-17B, Cape Canaveral AFS, Florida, USA\",\"US Air Force/SLC-17B, Cape Canaveral AFS, Florida, USA\",\"US Air Force/SLC-1E (75-3-5), Vandenberg AFB, California, USA\",\"US Air Force/SLC-1W (75-3-4), Vandenberg AFB, California, USA\",\"US Air Force/SLC-20, Cape Canaveral AFS, Florida, USA\",\"US Air Force/SLC-2E (75-1-1), Vandenberg AFB, California, USA\",\"Boeing/SLC-2W, Vandenberg AFB, California, USA\",\"ULA/SLC-2W, Vandenberg AFB, California, USA\",\"US Air Force/SLC-2W, Vandenberg AFB, California, USA\",\"General Dynamics/SLC-36A, Cape Canaveral AFS, Florida, USA\",\"ILS/SLC-36A, Cape Canaveral AFS, Florida, USA\",\"Lockheed/SLC-36A, Cape Canaveral AFS, Florida, USA\",\"General Dynamics/SLC-36B, Cape Canaveral AFS, Florida, USA\",\"ILS/SLC-36B, Cape Canaveral AFS, Florida, USA\",\"Lockheed/SLC-36B, Cape Canaveral AFS, Florida, USA\",\"Boeing/SLC-37B, Cape Canaveral AFS, Florida, USA\",\"NASA/SLC-37B, Cape Canaveral AFS, Florida, USA\",\"ULA/SLC-37B, Cape Canaveral AFS, Florida, USA\",\"General Dynamics/SLC-3E, Vandenberg AFB, California, USA\",\"Lockheed/SLC-3E, Vandenberg AFB, California, USA\",\"ULA/SLC-3E, Vandenberg AFB, California, USA\",\"General Dynamics/SLC-3W, Vandenberg AFB, California, USA\",\"Lockheed/SLC-3W, Vandenberg AFB, California, USA\",\"Lockheed/SLC-40, Cape Canaveral AFS, Florida, USA\",\"Martin Marietta/SLC-40, Cape Canaveral AFS, Florida, USA\",\"SpaceX/SLC-40, Cape Canaveral AFS, Florida, USA\",\"ILS/SLC-41, Cape Canaveral AFS, Florida, USA\",\"Lockheed/SLC-41, Cape Canaveral AFS, Florida, USA\",\"Martin Marietta/SLC-41, Cape Canaveral AFS, Florida, USA\",\"ULA/SLC-41, Cape Canaveral AFS, Florida, USA\",\"Lockheed/SLC-46, Cape Canaveral AFS, Florida, USA\",\"Northrop/SLC-46, Cape Canaveral AFS, Florida, USA\",\"General Dynamics/SLC-4E, Vandenberg AFB, California, USA\",\"Lockheed/SLC-4E, Vandenberg AFB, California, USA\",\"Martin Marietta/SLC-4E, Vandenberg AFB, California, USA\",\"SpaceX/SLC-4E, Vandenberg AFB, California, USA\",\"General Dynamics/SLC-4W, Vandenberg AFB, California, USA\",\"Lockheed/SLC-4W, Vandenberg AFB, California, USA\",\"Martin Marietta/SLC-4W, Vandenberg AFB, California, USA\",\"US Air Force/SLC-4W, Vandenberg AFB, California, USA\",\"NASA/SLC-5, Vandenberg AFB, California, USA\",\"US Air Force/SLC-5, Vandenberg AFB, California, USA\",\"Northrop/SLC-576E, Vandenberg AFB, California, USA\",\"Boeing/SLC-6, Vandenberg AFB, California, USA\",\"Lockheed/SLC-6, Vandenberg AFB, California, USA\",\"ULA/SLC-6, Vandenberg AFB, California, USA\",\"Northrop/SLC-8, Vandenberg AFB, California, USA\",\"MHI/SLC-N, Tanegashima Space Center, Japan\",\"ISRO/SLV LP, Satish Dhawan Space Centre, India\",\"ASI/SM Launch Tab, San Marco Launch Platform, Kenya\",\"ASI/Santa Rita 2, San Marco Launch Platform, Kenya\",\"ISRO/Second Launch Pad, Satish Dhawan Space Centre, India\",\"RVSN USSR/Site 1/5, Baikonur Cosmodrome, Kazakhstan\",\"Roscosmos/Site 1/5, Baikonur Cosmodrome, Kazakhstan\",\"RVSN USSR/Site 107/1, Kapustin Yar, Russia\",\"VKS RF/Site 107/1, Kapustin Yar, Russia\",\"Kosmotras/Site 109/95, Baikonur Cosmodrome, Kazakhstan\",\"RVSN USSR/Site 110/37, Baikonur Cosmodrome, Kazakhstan\",\"RVSN USSR/Site 110/38, Baikonur Cosmodrome, Kazakhstan\",\"RVSN USSR/Site 131/29, Baikonur Cosmodrome, Kazakhstan\",\"RVSN USSR/Site 132/1, Plesetsk Cosmodrome, Russia\",\"VKS RF/Site 132/1, Plesetsk Cosmodrome, Russia\",\"RVSN USSR/Site 132/2, Plesetsk Cosmodrome, Russia\",\"Eurockot/Site 133/3, Plesetsk Cosmodrome, Russia\",\"RVSN USSR/Site 133/3, Plesetsk Cosmodrome, Russia\",\"VKS RF/Site 133/3, Plesetsk Cosmodrome, Russia\",\"CASC/Site 138 (LA-2B), Jiuquan Satellite Launch Center, China\",\"MITT/Site 158, Plesetsk Cosmodrome, Russia\",\"RVSN USSR/Site 16/2, Plesetsk Cosmodrome, Russia\",\"VKS RF/Site 16/2, Plesetsk Cosmodrome, Russia\",\"RVSN USSR/Site 161/35, Baikonur Cosmodrome, Kazakhstan\",\"RVSN USSR/Site 162, Baikonur Cosmodrome, Kazakhstan\",\"RVSN USSR/Site 175/58, Baikonur Cosmodrome, Kazakhstan\",\"VKS RF/Site 175/58, Baikonur Cosmodrome, Kazakhstan\",\"VKS RF/Site 175/59, Baikonur Cosmodrome, Kazakhstan\",\"RVSN USSR/Site 191/66, Baikonur Cosmodrome, Kazakhstan\",\"Roscosmos/Site 1S, Vostochny Cosmodrome, Russia\",\"ILS/Site 200/39, Baikonur Cosmodrome, Kazakhstan\",\"Roscosmos/Site 200/39, Baikonur Cosmodrome, Kazakhstan\",\"VKS RF/Site 200/39, Baikonur Cosmodrome, Kazakhstan\",\"RVSN USSR/Site 250, Baikonur Cosmodrome, Kazakhstan\",\"Arianespace/Site 31/6, Baikonur Cosmodrome, Kazakhstan\",\"RVSN USSR/Site 31/6, Baikonur Cosmodrome, Kazakhstan\",\"Roscosmos/Site 31/6, Baikonur Cosmodrome, Kazakhstan\",\"Starsem/Site 31/6, Baikonur Cosmodrome, Kazakhstan\",\"VKS RF/Site 31/6, Baikonur Cosmodrome, Kazakhstan\",\"RVSN USSR/Site 32/1, Plesetsk Cosmodrome, Russia\",\"VKS RF/Site 32/1, Plesetsk Cosmodrome, Russia\",\"RVSN USSR/Site 32/2, Plesetsk Cosmodrome, Russia\",\"VKS RF/Site 32/2, Plesetsk Cosmodrome, Russia\",\"Yuzhmash/Site 32/2, Plesetsk Cosmodrome, Russia\",\"Khrunichev/Site 35/1, Plesetsk Cosmodrome, Russia\",\"VKS RF/Site 35/1, Plesetsk Cosmodrome, Russia\",\"Kosmotras/Site 370/13, Yasny Cosmodrome, Russia\",\"RVSN USSR/Site 41/1, Plesetsk Cosmodrome, Russia\",\"OKB-586/Site 41/15, Baikonur Cosmodrome, Kazakhstan\",\"RVSN USSR/Site 41/15, Baikonur Cosmodrome, Kazakhstan\",\"RVSN USSR/Site 43/3, Plesetsk Cosmodrome, Russia\",\"VKS RF/Site 43/3, Plesetsk Cosmodrome, Russia\",\"RVSN USSR/Site 43/4, Plesetsk Cosmodrome, Russia\",\"Roscosmos/Site 43/4, Plesetsk Cosmodrome, Russia\",\"VKS RF/Site 43/4, Plesetsk Cosmodrome, Russia\",\"Land Launch/Site 45/1, Baikonur Cosmodrome, Kazakhstan\",\"RVSN USSR/Site 45/1, Baikonur Cosmodrome, Kazakhstan\",\"Roscosmos/Site 45/1, Baikonur Cosmodrome, Kazakhstan\",\"VKS RF/Site 45/1, Baikonur Cosmodrome, Kazakhstan\",\"RVSN USSR/Site 45/2, Baikonur Cosmodrome, Kazakhstan\",\"CASC/Site 5020 (LA-2A), Jiuquan Satellite Launch Center, China\",\"ILS/Site 81/23, Baikonur Cosmodrome, Kazakhstan\",\"RVSN USSR/Site 81/23, Baikonur Cosmodrome, Kazakhstan\",\"ILS/Site 81/24, Baikonur Cosmodrome, Kazakhstan\",\"RVSN USSR/Site 81/24, Baikonur Cosmodrome, Kazakhstan\",\"Roscosmos/Site 81/24, Baikonur Cosmodrome, Kazakhstan\",\"VKS RF/Site 81/24, Baikonur Cosmodrome, Kazakhstan\",\"RVSN USSR/Site 86/1, Kapustin Yar, Russia\",\"RVSN USSR/Site 90/19, Baikonur Cosmodrome, Kazakhstan\",\"RVSN USSR/Site 90/20, Baikonur Cosmodrome, Kazakhstan\",\"VKS RF/Site 90/20, Baikonur Cosmodrome, Kazakhstan\",\"Yuzhmash/Site 90/20, Baikonur Cosmodrome, Kazakhstan\",\"CASC/Site 901 (SLS-1), Jiuquan Satellite Launch Center, China\",\"CASC/Site 9401 (SLS-2), Jiuquan Satellite Launch Center, China\",\"ExPace/Site 9401 (SLS-2), Jiuquan Satellite Launch Center, China\",\"CASC/Site 95, Jiuquan Satellite Launch Center, China\",\"CASIC/Site 95, Jiuquan Satellite Launch Center, China\",\"ExPace/Site 95, Jiuquan Satellite Launch Center, China\",\"Landspace/Site 95, Jiuquan Satellite Launch Center, China\",\"OneSpace/Site 95, Jiuquan Satellite Launch Center, China\",\"i-Space/Site 95, Jiuquan Satellite Launch Center, China\",\"Northrop/Stargazer, Base Aerea de Gando, Gran Canaria\",\"Northrop/Stargazer, Cape Canaveral AFS, Florida, USA\",\"Northrop/Stargazer, Ronald Reagan Ballistic Missile Defense Test Site, Marshall Islands, USA\",\"Northrop/Stargazer, Vandenberg AFB, California, USA\",\"Northrop/Stargazer, Wallops Flight Facility, Virginia, USA\",\"MITT/Svobodny Cosmodrome, Russia\",\"CASC/Tai Rui Barge, Yellow Sea\",\"CASC/Taiyuan Satellite Launch Center, China\",\"CASIC/Taiyuan Satellite Launch Center, China\",\"ExPace/Taiyuan Satellite Launch Center, China\",\"JAXA/Uchinoura Space Center, Japan\",\"UT/Uchinoura Space Center, Japan\",\"AEB/VLS Pad, Alc?\\u203antara Launch Center, Maranh?\\u0153o, Brazil\",\"Exos/Vertical Launch Area, Spaceport America, New Mexico\",\"CASC/Xichang Satellite Launch Center, China\",\"AEB\",\"AMBA\",\"ASI\",\"Arianespace\",\"Arm??e de l'Air\",\"Blue Origin\",\"Boeing\",\"CASC\",\"CASIC\",\"CECLES\",\"CNES\",\"Douglas\",\"EER\",\"ESA\",\"Eurockot\",\"ExPace\",\"Exos\",\"General Dynamics\",\"IAI\",\"ILS\",\"IRGC\",\"ISA\",\"ISAS\",\"ISRO\",\"JAXA\",\"KARI\",\"KCST\",\"Khrunichev\",\"Kosmotras\",\"Land Launch\",\"Landspace\",\"Lockheed\",\"MHI\",\"MITT\",\"Martin Marietta\",\"NASA\",\"Northrop\",\"OKB-586\",\"OneSpace\",\"RAE\",\"RVSN USSR\",\"Rocket Lab\",\"Roscosmos\",\"SRC\",\"Sandia\",\"Sea Launch\",\"SpaceX\",\"Starsem\",\"ULA\",\"US Air Force\",\"US Navy\",\"UT\",\"VKS RF\",\"Virgin Orbit\",\"Yuzhmash\",\"i-Space\"],\"labels\":[\"Blue Origin Launch Site, West Texas, Texas, USA\",\"Brigitte, Hammaguir, Algeria, France\",\"Cosmic Girl, Mojave Air and Space Port, California, USA\",\"Douglas F4D Skyray, Naval Air Station Point Mugu, California, USA\",\"ELA-1, Guiana Space Centre, French Guiana, France\",\"ELA-1, Guiana Space Centre, French Guiana, France\",\"ELA-2, Guiana Space Centre, French Guiana, France\",\"ELA-2, Guiana Space Centre, French Guiana, France\",\"ELA-3, Guiana Space Centre, French Guiana, France\",\"ELA-3, Guiana Space Centre, French Guiana, France\",\"ELD, Guiana Space Centre, French Guiana, France\",\"ELS, Guiana Space Centre, French Guiana, France\",\"ELV-1 (SLV), Guiana Space Centre, French Guiana, France\",\"ELV-1 (SLV), Guiana Space Centre, French Guiana, France\",\"First Launch Pad, Satish Dhawan Space Centre, India\",\"Imam Khomeini Spaceport, Semnan Space Center, Iran\",\"Jiuquan Satellite Launch Center, China\",\"K-407 Submarine, Barents Sea Launch Area, Barents Sea\",\"K-496 Submarine, Barents Sea Launch Area, Barents Sea\",\"K-84 Submarine, Barents Sea Launch Area, Barents Sea\",\"LA-3, Wallops Flight Facility, Virginia, USA\",\"LA-5B, RAAF Woomera Range Complex, Australia\",\"LA-5B, RAAF Woomera Range Complex, Australia\",\"LA-5B, RAAF Woomera Range Complex, Australia\",\"LA-Y1, Tanegashima Space Center, Japan\",\"LA-Y1, Tanegashima Space Center, Japan\",\"LA-Y2, Tanegashima Space Center, Japan\",\"LC-1, Naro Space Center, South Korea\",\"LC-101, Wenchang Satellite Launch Center, China\",\"LC-11, Cape Canaveral AFS, Florida, USA\",\"LC-12, Cape Canaveral AFS, Florida, USA\",\"LC-13, Cape Canaveral AFS, Florida, USA\",\"LC-14, Cape Canaveral AFS, Florida, USA\",\"LC-14, Cape Canaveral AFS, Florida, USA\",\"LC-16, Taiyuan Satellite Launch Center, China\",\"LC-18A, Cape Canaveral AFS, Florida, USA\",\"LC-18B, Cape Canaveral AFS, Florida, USA\",\"LC-19, Cape Canaveral AFS, Florida, USA\",\"LC-2, Xichang Satellite Launch Center, China\",\"LC-201, Wenchang Satellite Launch Center, China\",\"LC-26A, Cape Canaveral AFS, Florida, USA\",\"LC-3, Xichang Satellite Launch Center, China\",\"LC-34, Cape Canaveral AFS, Florida, USA\",\"LC-39A, Kennedy Space Center, Florida, USA\",\"LC-39A, Kennedy Space Center, Florida, USA\",\"LC-39B, Kennedy Space Center, Florida, USA\",\"LC-5, Cape Canaveral AFS, Florida, USA\",\"LC-5, Cape Canaveral AFS, Florida, USA\",\"LC-576A1, Vandenberg AFB, California, USA\",\"LC-576A2, Vandenberg AFB, California, USA\",\"LC-576B3, Vandenberg AFB, California, USA\",\"LC-7, Taiyuan Satellite Launch Center, China\",\"LC-9, Taiyuan Satellite Launch Center, China\",\"LP Odyssey, Kiritimati Launch Area, Pacific Ocean\",\"LP-0A, Wallops Flight Facility, Virginia, USA\",\"LP-0A, Wallops Flight Facility, Virginia, USA\",\"LP-0B, Wallops Flight Facility, Virginia, USA\",\"LP-1, Pacific Spaceport Complex, Alaska, USA\",\"LP-1, Pacific Spaceport Complex, Alaska, USA\",\"LP-41, Kauai, Pacific Missile Range Facility\",\"Launch Plateform, Shahrud Missile Test Site\",\"Mayak-2, Kapustin Yar, Russia\",\"Mu Pad, Uchinoura Space Center, Japan\",\"Mu Pad, Uchinoura Space Center, Japan\",\"NB-52B Carrier, Cape Canaveral AFS, Florida, USA\",\"NB-52B Carrier, Edwards AFB, California, USA\",\"Omelek Island, Ronald Reagan Ballistic Missile Defense Test Site, Marshall Islands, USA\",\"Pad 1, Palmachim Airbase, Israel\",\"Pad 1, Sohae Satellite Launching Station, North Korea\",\"Pad 1, Tonghae Satellite Launching Ground, North Korea\",\"Pad A, Boca Chica, Texas, USA\",\"Rocket Lab LC-1A, M?\\u0081hia Peninsula, New Zealand\",\"SLC-17A, Cape Canaveral AFS, Florida, USA\",\"SLC-17A, Cape Canaveral AFS, Florida, USA\",\"SLC-17A, Cape Canaveral AFS, Florida, USA\",\"SLC-17A, Cape Canaveral AFS, Florida, USA\",\"SLC-17A, Cape Canaveral AFS, Florida, USA\",\"SLC-17B, Cape Canaveral AFS, Florida, USA\",\"SLC-17B, Cape Canaveral AFS, Florida, USA\",\"SLC-17B, Cape Canaveral AFS, Florida, USA\",\"SLC-1E (75-3-5), Vandenberg AFB, California, USA\",\"SLC-1W (75-3-4), Vandenberg AFB, California, USA\",\"SLC-20, Cape Canaveral AFS, Florida, USA\",\"SLC-2E (75-1-1), Vandenberg AFB, California, USA\",\"SLC-2W, Vandenberg AFB, California, USA\",\"SLC-2W, Vandenberg AFB, California, USA\",\"SLC-2W, Vandenberg AFB, California, USA\",\"SLC-36A, Cape Canaveral AFS, Florida, USA\",\"SLC-36A, Cape Canaveral AFS, Florida, USA\",\"SLC-36A, Cape Canaveral AFS, Florida, USA\",\"SLC-36B, Cape Canaveral AFS, Florida, USA\",\"SLC-36B, Cape Canaveral AFS, Florida, USA\",\"SLC-36B, Cape Canaveral AFS, Florida, USA\",\"SLC-37B, Cape Canaveral AFS, Florida, USA\",\"SLC-37B, Cape Canaveral AFS, Florida, USA\",\"SLC-37B, Cape Canaveral AFS, Florida, USA\",\"SLC-3E, Vandenberg AFB, California, USA\",\"SLC-3E, Vandenberg AFB, California, USA\",\"SLC-3E, Vandenberg AFB, California, USA\",\"SLC-3W, Vandenberg AFB, California, USA\",\"SLC-3W, Vandenberg AFB, California, USA\",\"SLC-40, Cape Canaveral AFS, Florida, USA\",\"SLC-40, Cape Canaveral AFS, Florida, USA\",\"SLC-40, Cape Canaveral AFS, Florida, USA\",\"SLC-41, Cape Canaveral AFS, Florida, USA\",\"SLC-41, Cape Canaveral AFS, Florida, USA\",\"SLC-41, Cape Canaveral AFS, Florida, USA\",\"SLC-41, Cape Canaveral AFS, Florida, USA\",\"SLC-46, Cape Canaveral AFS, Florida, USA\",\"SLC-46, Cape Canaveral AFS, Florida, USA\",\"SLC-4E, Vandenberg AFB, California, USA\",\"SLC-4E, Vandenberg AFB, California, USA\",\"SLC-4E, Vandenberg AFB, California, USA\",\"SLC-4E, Vandenberg AFB, California, USA\",\"SLC-4W, Vandenberg AFB, California, USA\",\"SLC-4W, Vandenberg AFB, California, USA\",\"SLC-4W, Vandenberg AFB, California, USA\",\"SLC-4W, Vandenberg AFB, California, USA\",\"SLC-5, Vandenberg AFB, California, USA\",\"SLC-5, Vandenberg AFB, California, USA\",\"SLC-576E, Vandenberg AFB, California, USA\",\"SLC-6, Vandenberg AFB, California, USA\",\"SLC-6, Vandenberg AFB, California, USA\",\"SLC-6, Vandenberg AFB, California, USA\",\"SLC-8, Vandenberg AFB, California, USA\",\"SLC-N, Tanegashima Space Center, Japan\",\"SLV LP, Satish Dhawan Space Centre, India\",\"SM Launch Tab, San Marco Launch Platform, Kenya\",\"Santa Rita 2, San Marco Launch Platform, Kenya\",\"Second Launch Pad, Satish Dhawan Space Centre, India\",\"Site 1/5, Baikonur Cosmodrome, Kazakhstan\",\"Site 1/5, Baikonur Cosmodrome, Kazakhstan\",\"Site 107/1, Kapustin Yar, Russia\",\"Site 107/1, Kapustin Yar, Russia\",\"Site 109/95, Baikonur Cosmodrome, Kazakhstan\",\"Site 110/37, Baikonur Cosmodrome, Kazakhstan\",\"Site 110/38, Baikonur Cosmodrome, Kazakhstan\",\"Site 131/29, Baikonur Cosmodrome, Kazakhstan\",\"Site 132/1, Plesetsk Cosmodrome, Russia\",\"Site 132/1, Plesetsk Cosmodrome, Russia\",\"Site 132/2, Plesetsk Cosmodrome, Russia\",\"Site 133/3, Plesetsk Cosmodrome, Russia\",\"Site 133/3, Plesetsk Cosmodrome, Russia\",\"Site 133/3, Plesetsk Cosmodrome, Russia\",\"Site 138 (LA-2B), Jiuquan Satellite Launch Center, China\",\"Site 158, Plesetsk Cosmodrome, Russia\",\"Site 16/2, Plesetsk Cosmodrome, Russia\",\"Site 16/2, Plesetsk Cosmodrome, Russia\",\"Site 161/35, Baikonur Cosmodrome, Kazakhstan\",\"Site 162, Baikonur Cosmodrome, Kazakhstan\",\"Site 175/58, Baikonur Cosmodrome, Kazakhstan\",\"Site 175/58, Baikonur Cosmodrome, Kazakhstan\",\"Site 175/59, Baikonur Cosmodrome, Kazakhstan\",\"Site 191/66, Baikonur Cosmodrome, Kazakhstan\",\"Site 1S, Vostochny Cosmodrome, Russia\",\"Site 200/39, Baikonur Cosmodrome, Kazakhstan\",\"Site 200/39, Baikonur Cosmodrome, Kazakhstan\",\"Site 200/39, Baikonur Cosmodrome, Kazakhstan\",\"Site 250, Baikonur Cosmodrome, Kazakhstan\",\"Site 31/6, Baikonur Cosmodrome, Kazakhstan\",\"Site 31/6, Baikonur Cosmodrome, Kazakhstan\",\"Site 31/6, Baikonur Cosmodrome, Kazakhstan\",\"Site 31/6, Baikonur Cosmodrome, Kazakhstan\",\"Site 31/6, Baikonur Cosmodrome, Kazakhstan\",\"Site 32/1, Plesetsk Cosmodrome, Russia\",\"Site 32/1, Plesetsk Cosmodrome, Russia\",\"Site 32/2, Plesetsk Cosmodrome, Russia\",\"Site 32/2, Plesetsk Cosmodrome, Russia\",\"Site 32/2, Plesetsk Cosmodrome, Russia\",\"Site 35/1, Plesetsk Cosmodrome, Russia\",\"Site 35/1, Plesetsk Cosmodrome, Russia\",\"Site 370/13, Yasny Cosmodrome, Russia\",\"Site 41/1, Plesetsk Cosmodrome, Russia\",\"Site 41/15, Baikonur Cosmodrome, Kazakhstan\",\"Site 41/15, Baikonur Cosmodrome, Kazakhstan\",\"Site 43/3, Plesetsk Cosmodrome, Russia\",\"Site 43/3, Plesetsk Cosmodrome, Russia\",\"Site 43/4, Plesetsk Cosmodrome, Russia\",\"Site 43/4, Plesetsk Cosmodrome, Russia\",\"Site 43/4, Plesetsk Cosmodrome, Russia\",\"Site 45/1, Baikonur Cosmodrome, Kazakhstan\",\"Site 45/1, Baikonur Cosmodrome, Kazakhstan\",\"Site 45/1, Baikonur Cosmodrome, Kazakhstan\",\"Site 45/1, Baikonur Cosmodrome, Kazakhstan\",\"Site 45/2, Baikonur Cosmodrome, Kazakhstan\",\"Site 5020 (LA-2A), Jiuquan Satellite Launch Center, China\",\"Site 81/23, Baikonur Cosmodrome, Kazakhstan\",\"Site 81/23, Baikonur Cosmodrome, Kazakhstan\",\"Site 81/24, Baikonur Cosmodrome, Kazakhstan\",\"Site 81/24, Baikonur Cosmodrome, Kazakhstan\",\"Site 81/24, Baikonur Cosmodrome, Kazakhstan\",\"Site 81/24, Baikonur Cosmodrome, Kazakhstan\",\"Site 86/1, Kapustin Yar, Russia\",\"Site 90/19, Baikonur Cosmodrome, Kazakhstan\",\"Site 90/20, Baikonur Cosmodrome, Kazakhstan\",\"Site 90/20, Baikonur Cosmodrome, Kazakhstan\",\"Site 90/20, Baikonur Cosmodrome, Kazakhstan\",\"Site 901 (SLS-1), Jiuquan Satellite Launch Center, China\",\"Site 9401 (SLS-2), Jiuquan Satellite Launch Center, China\",\"Site 9401 (SLS-2), Jiuquan Satellite Launch Center, China\",\"Site 95, Jiuquan Satellite Launch Center, China\",\"Site 95, Jiuquan Satellite Launch Center, China\",\"Site 95, Jiuquan Satellite Launch Center, China\",\"Site 95, Jiuquan Satellite Launch Center, China\",\"Site 95, Jiuquan Satellite Launch Center, China\",\"Site 95, Jiuquan Satellite Launch Center, China\",\"Stargazer, Base Aerea de Gando, Gran Canaria\",\"Stargazer, Cape Canaveral AFS, Florida, USA\",\"Stargazer, Ronald Reagan Ballistic Missile Defense Test Site, Marshall Islands, USA\",\"Stargazer, Vandenberg AFB, California, USA\",\"Stargazer, Wallops Flight Facility, Virginia, USA\",\"Svobodny Cosmodrome, Russia\",\"Tai Rui Barge, Yellow Sea\",\"Taiyuan Satellite Launch Center, China\",\"Taiyuan Satellite Launch Center, China\",\"Taiyuan Satellite Launch Center, China\",\"Uchinoura Space Center, Japan\",\"Uchinoura Space Center, Japan\",\"VLS Pad, Alc?\\u203antara Launch Center, Maranh?\\u0153o, Brazil\",\"Vertical Launch Area, Spaceport America, New Mexico\",\"Xichang Satellite Launch Center, China\",\"AEB\",\"AMBA\",\"ASI\",\"Arianespace\",\"Arm??e de l'Air\",\"Blue Origin\",\"Boeing\",\"CASC\",\"CASIC\",\"CECLES\",\"CNES\",\"Douglas\",\"EER\",\"ESA\",\"Eurockot\",\"ExPace\",\"Exos\",\"General Dynamics\",\"IAI\",\"ILS\",\"IRGC\",\"ISA\",\"ISAS\",\"ISRO\",\"JAXA\",\"KARI\",\"KCST\",\"Khrunichev\",\"Kosmotras\",\"Land Launch\",\"Landspace\",\"Lockheed\",\"MHI\",\"MITT\",\"Martin Marietta\",\"NASA\",\"Northrop\",\"OKB-586\",\"OneSpace\",\"RAE\",\"RVSN USSR\",\"Rocket Lab\",\"Roscosmos\",\"SRC\",\"Sandia\",\"Sea Launch\",\"SpaceX\",\"Starsem\",\"ULA\",\"US Air Force\",\"US Navy\",\"UT\",\"VKS RF\",\"Virgin Orbit\",\"Yuzhmash\",\"i-Space\"],\"name\":\"\",\"parents\":[\"Blue Origin\",\"Arm??e de l'Air\",\"Virgin Orbit\",\"US Navy\",\"Arianespace\",\"CECLES\",\"Arianespace\",\"ESA\",\"Arianespace\",\"ESA\",\"CNES\",\"Arianespace\",\"Arianespace\",\"ESA\",\"ISRO\",\"ISA\",\"CASIC\",\"SRC\",\"SRC\",\"SRC\",\"NASA\",\"AMBA\",\"CECLES\",\"RAE\",\"JAXA\",\"MHI\",\"MHI\",\"KARI\",\"CASC\",\"US Air Force\",\"General Dynamics\",\"General Dynamics\",\"General Dynamics\",\"NASA\",\"CASC\",\"US Navy\",\"NASA\",\"NASA\",\"CASC\",\"CASC\",\"AMBA\",\"CASC\",\"NASA\",\"NASA\",\"SpaceX\",\"NASA\",\"AMBA\",\"NASA\",\"General Dynamics\",\"General Dynamics\",\"General Dynamics\",\"CASC\",\"CASC\",\"Sea Launch\",\"EER\",\"Northrop\",\"Northrop\",\"Lockheed\",\"Northrop\",\"Sandia\",\"IRGC\",\"RVSN USSR\",\"ISAS\",\"JAXA\",\"Northrop\",\"Northrop\",\"SpaceX\",\"IAI\",\"KCST\",\"KCST\",\"SpaceX\",\"Rocket Lab\",\"Boeing\",\"Douglas\",\"NASA\",\"ULA\",\"US Air Force\",\"Boeing\",\"ULA\",\"US Air Force\",\"US Air Force\",\"US Air Force\",\"US Air Force\",\"US Air Force\",\"Boeing\",\"ULA\",\"US Air Force\",\"General Dynamics\",\"ILS\",\"Lockheed\",\"General Dynamics\",\"ILS\",\"Lockheed\",\"Boeing\",\"NASA\",\"ULA\",\"General Dynamics\",\"Lockheed\",\"ULA\",\"General Dynamics\",\"Lockheed\",\"Lockheed\",\"Martin Marietta\",\"SpaceX\",\"ILS\",\"Lockheed\",\"Martin Marietta\",\"ULA\",\"Lockheed\",\"Northrop\",\"General Dynamics\",\"Lockheed\",\"Martin Marietta\",\"SpaceX\",\"General Dynamics\",\"Lockheed\",\"Martin Marietta\",\"US Air Force\",\"NASA\",\"US Air Force\",\"Northrop\",\"Boeing\",\"Lockheed\",\"ULA\",\"Northrop\",\"MHI\",\"ISRO\",\"ASI\",\"ASI\",\"ISRO\",\"RVSN USSR\",\"Roscosmos\",\"RVSN USSR\",\"VKS RF\",\"Kosmotras\",\"RVSN USSR\",\"RVSN USSR\",\"RVSN USSR\",\"RVSN USSR\",\"VKS RF\",\"RVSN USSR\",\"Eurockot\",\"RVSN USSR\",\"VKS RF\",\"CASC\",\"MITT\",\"RVSN USSR\",\"VKS RF\",\"RVSN USSR\",\"RVSN USSR\",\"RVSN USSR\",\"VKS RF\",\"VKS RF\",\"RVSN USSR\",\"Roscosmos\",\"ILS\",\"Roscosmos\",\"VKS RF\",\"RVSN USSR\",\"Arianespace\",\"RVSN USSR\",\"Roscosmos\",\"Starsem\",\"VKS RF\",\"RVSN USSR\",\"VKS RF\",\"RVSN USSR\",\"VKS RF\",\"Yuzhmash\",\"Khrunichev\",\"VKS RF\",\"Kosmotras\",\"RVSN USSR\",\"OKB-586\",\"RVSN USSR\",\"RVSN USSR\",\"VKS RF\",\"RVSN USSR\",\"Roscosmos\",\"VKS RF\",\"Land Launch\",\"RVSN USSR\",\"Roscosmos\",\"VKS RF\",\"RVSN USSR\",\"CASC\",\"ILS\",\"RVSN USSR\",\"ILS\",\"RVSN USSR\",\"Roscosmos\",\"VKS RF\",\"RVSN USSR\",\"RVSN USSR\",\"RVSN USSR\",\"VKS RF\",\"Yuzhmash\",\"CASC\",\"CASC\",\"ExPace\",\"CASC\",\"CASIC\",\"ExPace\",\"Landspace\",\"OneSpace\",\"i-Space\",\"Northrop\",\"Northrop\",\"Northrop\",\"Northrop\",\"Northrop\",\"MITT\",\"CASC\",\"CASC\",\"CASIC\",\"ExPace\",\"JAXA\",\"UT\",\"AEB\",\"Exos\",\"CASC\",\"\",\"\",\"\",\"\",\"\",\"\",\"\",\"\",\"\",\"\",\"\",\"\",\"\",\"\",\"\",\"\",\"\",\"\",\"\",\"\",\"\",\"\",\"\",\"\",\"\",\"\",\"\",\"\",\"\",\"\",\"\",\"\",\"\",\"\",\"\",\"\",\"\",\"\",\"\",\"\",\"\",\"\",\"\",\"\",\"\",\"\",\"\",\"\",\"\",\"\",\"\",\"\",\"\",\"\",\"\",\"\"],\"values\":[12,4,1,6,14,1,117,1,106,3,8,23,17,9,42,13,1,1,1,1,6,1,3,2,1,72,9,3,5,1,21,21,10,10,3,11,1,12,60,3,2,42,5,97,23,56,5,6,1,4,7,22,21,36,1,12,7,1,2,1,1,25,30,4,1,5,5,11,3,2,1,13,53,1,2,6,18,48,6,13,21,28,4,10,28,18,3,37,12,21,44,20,11,5,7,27,25,3,15,42,1,15,40,56,8,5,22,62,2,1,27,8,33,15,12,8,19,54,1,9,10,2,4,6,7,3,8,8,1,26,174,19,18,1,12,3,2,1,170,46,174,13,121,24,29,2,33,18,8,8,1,1,3,2,5,3,3,2,1,2,212,18,1,2,46,12,51,12,1,1,1,10,198,2,12,123,15,171,3,28,7,15,4,20,2,3,1,20,2,18,3,3,68,45,55,13,1,13,36,1,8,2,8,1,1,1,2,6,4,21,5,5,1,4,2,1,2,5,3,4,1,3,8,9,279,4,12,136,251,5,4,8,1,1,13,13,10,4,251,11,46,1,13,30,76,7,3,5,1,22,7,1,79,84,7,114,203,83,2,1,2,1777,13,55,3,1,36,100,1,140,161,17,5,201,1,2,1],\"type\":\"sunburst\"}],                        {\"template\":{\"data\":{\"bar\":[{\"error_x\":{\"color\":\"#2a3f5f\"},\"error_y\":{\"color\":\"#2a3f5f\"},\"marker\":{\"line\":{\"color\":\"#E5ECF6\",\"width\":0.5},\"pattern\":{\"fillmode\":\"overlay\",\"size\":10,\"solidity\":0.2}},\"type\":\"bar\"}],\"barpolar\":[{\"marker\":{\"line\":{\"color\":\"#E5ECF6\",\"width\":0.5},\"pattern\":{\"fillmode\":\"overlay\",\"size\":10,\"solidity\":0.2}},\"type\":\"barpolar\"}],\"carpet\":[{\"aaxis\":{\"endlinecolor\":\"#2a3f5f\",\"gridcolor\":\"white\",\"linecolor\":\"white\",\"minorgridcolor\":\"white\",\"startlinecolor\":\"#2a3f5f\"},\"baxis\":{\"endlinecolor\":\"#2a3f5f\",\"gridcolor\":\"white\",\"linecolor\":\"white\",\"minorgridcolor\":\"white\",\"startlinecolor\":\"#2a3f5f\"},\"type\":\"carpet\"}],\"choropleth\":[{\"colorbar\":{\"outlinewidth\":0,\"ticks\":\"\"},\"type\":\"choropleth\"}],\"contour\":[{\"colorbar\":{\"outlinewidth\":0,\"ticks\":\"\"},\"colorscale\":[[0.0,\"#0d0887\"],[0.1111111111111111,\"#46039f\"],[0.2222222222222222,\"#7201a8\"],[0.3333333333333333,\"#9c179e\"],[0.4444444444444444,\"#bd3786\"],[0.5555555555555556,\"#d8576b\"],[0.6666666666666666,\"#ed7953\"],[0.7777777777777778,\"#fb9f3a\"],[0.8888888888888888,\"#fdca26\"],[1.0,\"#f0f921\"]],\"type\":\"contour\"}],\"contourcarpet\":[{\"colorbar\":{\"outlinewidth\":0,\"ticks\":\"\"},\"type\":\"contourcarpet\"}],\"heatmap\":[{\"colorbar\":{\"outlinewidth\":0,\"ticks\":\"\"},\"colorscale\":[[0.0,\"#0d0887\"],[0.1111111111111111,\"#46039f\"],[0.2222222222222222,\"#7201a8\"],[0.3333333333333333,\"#9c179e\"],[0.4444444444444444,\"#bd3786\"],[0.5555555555555556,\"#d8576b\"],[0.6666666666666666,\"#ed7953\"],[0.7777777777777778,\"#fb9f3a\"],[0.8888888888888888,\"#fdca26\"],[1.0,\"#f0f921\"]],\"type\":\"heatmap\"}],\"heatmapgl\":[{\"colorbar\":{\"outlinewidth\":0,\"ticks\":\"\"},\"colorscale\":[[0.0,\"#0d0887\"],[0.1111111111111111,\"#46039f\"],[0.2222222222222222,\"#7201a8\"],[0.3333333333333333,\"#9c179e\"],[0.4444444444444444,\"#bd3786\"],[0.5555555555555556,\"#d8576b\"],[0.6666666666666666,\"#ed7953\"],[0.7777777777777778,\"#fb9f3a\"],[0.8888888888888888,\"#fdca26\"],[1.0,\"#f0f921\"]],\"type\":\"heatmapgl\"}],\"histogram\":[{\"marker\":{\"pattern\":{\"fillmode\":\"overlay\",\"size\":10,\"solidity\":0.2}},\"type\":\"histogram\"}],\"histogram2d\":[{\"colorbar\":{\"outlinewidth\":0,\"ticks\":\"\"},\"colorscale\":[[0.0,\"#0d0887\"],[0.1111111111111111,\"#46039f\"],[0.2222222222222222,\"#7201a8\"],[0.3333333333333333,\"#9c179e\"],[0.4444444444444444,\"#bd3786\"],[0.5555555555555556,\"#d8576b\"],[0.6666666666666666,\"#ed7953\"],[0.7777777777777778,\"#fb9f3a\"],[0.8888888888888888,\"#fdca26\"],[1.0,\"#f0f921\"]],\"type\":\"histogram2d\"}],\"histogram2dcontour\":[{\"colorbar\":{\"outlinewidth\":0,\"ticks\":\"\"},\"colorscale\":[[0.0,\"#0d0887\"],[0.1111111111111111,\"#46039f\"],[0.2222222222222222,\"#7201a8\"],[0.3333333333333333,\"#9c179e\"],[0.4444444444444444,\"#bd3786\"],[0.5555555555555556,\"#d8576b\"],[0.6666666666666666,\"#ed7953\"],[0.7777777777777778,\"#fb9f3a\"],[0.8888888888888888,\"#fdca26\"],[1.0,\"#f0f921\"]],\"type\":\"histogram2dcontour\"}],\"mesh3d\":[{\"colorbar\":{\"outlinewidth\":0,\"ticks\":\"\"},\"type\":\"mesh3d\"}],\"parcoords\":[{\"line\":{\"colorbar\":{\"outlinewidth\":0,\"ticks\":\"\"}},\"type\":\"parcoords\"}],\"pie\":[{\"automargin\":true,\"type\":\"pie\"}],\"scatter\":[{\"marker\":{\"colorbar\":{\"outlinewidth\":0,\"ticks\":\"\"}},\"type\":\"scatter\"}],\"scatter3d\":[{\"line\":{\"colorbar\":{\"outlinewidth\":0,\"ticks\":\"\"}},\"marker\":{\"colorbar\":{\"outlinewidth\":0,\"ticks\":\"\"}},\"type\":\"scatter3d\"}],\"scattercarpet\":[{\"marker\":{\"colorbar\":{\"outlinewidth\":0,\"ticks\":\"\"}},\"type\":\"scattercarpet\"}],\"scattergeo\":[{\"marker\":{\"colorbar\":{\"outlinewidth\":0,\"ticks\":\"\"}},\"type\":\"scattergeo\"}],\"scattergl\":[{\"marker\":{\"colorbar\":{\"outlinewidth\":0,\"ticks\":\"\"}},\"type\":\"scattergl\"}],\"scattermapbox\":[{\"marker\":{\"colorbar\":{\"outlinewidth\":0,\"ticks\":\"\"}},\"type\":\"scattermapbox\"}],\"scatterpolar\":[{\"marker\":{\"colorbar\":{\"outlinewidth\":0,\"ticks\":\"\"}},\"type\":\"scatterpolar\"}],\"scatterpolargl\":[{\"marker\":{\"colorbar\":{\"outlinewidth\":0,\"ticks\":\"\"}},\"type\":\"scatterpolargl\"}],\"scatterternary\":[{\"marker\":{\"colorbar\":{\"outlinewidth\":0,\"ticks\":\"\"}},\"type\":\"scatterternary\"}],\"surface\":[{\"colorbar\":{\"outlinewidth\":0,\"ticks\":\"\"},\"colorscale\":[[0.0,\"#0d0887\"],[0.1111111111111111,\"#46039f\"],[0.2222222222222222,\"#7201a8\"],[0.3333333333333333,\"#9c179e\"],[0.4444444444444444,\"#bd3786\"],[0.5555555555555556,\"#d8576b\"],[0.6666666666666666,\"#ed7953\"],[0.7777777777777778,\"#fb9f3a\"],[0.8888888888888888,\"#fdca26\"],[1.0,\"#f0f921\"]],\"type\":\"surface\"}],\"table\":[{\"cells\":{\"fill\":{\"color\":\"#EBF0F8\"},\"line\":{\"color\":\"white\"}},\"header\":{\"fill\":{\"color\":\"#C8D4E3\"},\"line\":{\"color\":\"white\"}},\"type\":\"table\"}]},\"layout\":{\"annotationdefaults\":{\"arrowcolor\":\"#2a3f5f\",\"arrowhead\":0,\"arrowwidth\":1},\"autotypenumbers\":\"strict\",\"coloraxis\":{\"colorbar\":{\"outlinewidth\":0,\"ticks\":\"\"}},\"colorscale\":{\"diverging\":[[0,\"#8e0152\"],[0.1,\"#c51b7d\"],[0.2,\"#de77ae\"],[0.3,\"#f1b6da\"],[0.4,\"#fde0ef\"],[0.5,\"#f7f7f7\"],[0.6,\"#e6f5d0\"],[0.7,\"#b8e186\"],[0.8,\"#7fbc41\"],[0.9,\"#4d9221\"],[1,\"#276419\"]],\"sequential\":[[0.0,\"#0d0887\"],[0.1111111111111111,\"#46039f\"],[0.2222222222222222,\"#7201a8\"],[0.3333333333333333,\"#9c179e\"],[0.4444444444444444,\"#bd3786\"],[0.5555555555555556,\"#d8576b\"],[0.6666666666666666,\"#ed7953\"],[0.7777777777777778,\"#fb9f3a\"],[0.8888888888888888,\"#fdca26\"],[1.0,\"#f0f921\"]],\"sequentialminus\":[[0.0,\"#0d0887\"],[0.1111111111111111,\"#46039f\"],[0.2222222222222222,\"#7201a8\"],[0.3333333333333333,\"#9c179e\"],[0.4444444444444444,\"#bd3786\"],[0.5555555555555556,\"#d8576b\"],[0.6666666666666666,\"#ed7953\"],[0.7777777777777778,\"#fb9f3a\"],[0.8888888888888888,\"#fdca26\"],[1.0,\"#f0f921\"]]},\"colorway\":[\"#636efa\",\"#EF553B\",\"#00cc96\",\"#ab63fa\",\"#FFA15A\",\"#19d3f3\",\"#FF6692\",\"#B6E880\",\"#FF97FF\",\"#FECB52\"],\"font\":{\"color\":\"#2a3f5f\"},\"geo\":{\"bgcolor\":\"white\",\"lakecolor\":\"white\",\"landcolor\":\"#E5ECF6\",\"showlakes\":true,\"showland\":true,\"subunitcolor\":\"white\"},\"hoverlabel\":{\"align\":\"left\"},\"hovermode\":\"closest\",\"mapbox\":{\"style\":\"light\"},\"paper_bgcolor\":\"white\",\"plot_bgcolor\":\"#E5ECF6\",\"polar\":{\"angularaxis\":{\"gridcolor\":\"white\",\"linecolor\":\"white\",\"ticks\":\"\"},\"bgcolor\":\"#E5ECF6\",\"radialaxis\":{\"gridcolor\":\"white\",\"linecolor\":\"white\",\"ticks\":\"\"}},\"scene\":{\"xaxis\":{\"backgroundcolor\":\"#E5ECF6\",\"gridcolor\":\"white\",\"gridwidth\":2,\"linecolor\":\"white\",\"showbackground\":true,\"ticks\":\"\",\"zerolinecolor\":\"white\"},\"yaxis\":{\"backgroundcolor\":\"#E5ECF6\",\"gridcolor\":\"white\",\"gridwidth\":2,\"linecolor\":\"white\",\"showbackground\":true,\"ticks\":\"\",\"zerolinecolor\":\"white\"},\"zaxis\":{\"backgroundcolor\":\"#E5ECF6\",\"gridcolor\":\"white\",\"gridwidth\":2,\"linecolor\":\"white\",\"showbackground\":true,\"ticks\":\"\",\"zerolinecolor\":\"white\"}},\"shapedefaults\":{\"line\":{\"color\":\"#2a3f5f\"}},\"ternary\":{\"aaxis\":{\"gridcolor\":\"white\",\"linecolor\":\"white\",\"ticks\":\"\"},\"baxis\":{\"gridcolor\":\"white\",\"linecolor\":\"white\",\"ticks\":\"\"},\"bgcolor\":\"#E5ECF6\",\"caxis\":{\"gridcolor\":\"white\",\"linecolor\":\"white\",\"ticks\":\"\"}},\"title\":{\"x\":0.05},\"xaxis\":{\"automargin\":true,\"gridcolor\":\"white\",\"linecolor\":\"white\",\"ticks\":\"\",\"title\":{\"standoff\":15},\"zerolinecolor\":\"white\",\"zerolinewidth\":2},\"yaxis\":{\"automargin\":true,\"gridcolor\":\"white\",\"linecolor\":\"white\",\"ticks\":\"\",\"title\":{\"standoff\":15},\"zerolinecolor\":\"white\",\"zerolinewidth\":2}}},\"legend\":{\"tracegroupgap\":0},\"title\":{\"text\":\"Which companies launch most missions and where?\"},\"coloraxis\":{\"showscale\":false}},                        {\"responsive\": true}                    ).then(function(){\n",
       "                            \n",
       "var gd = document.getElementById('de101849-407a-4ce0-a0a9-a29c078c027c');\n",
       "var x = new MutationObserver(function (mutations, observer) {{\n",
       "        var display = window.getComputedStyle(gd).display;\n",
       "        if (!display || display === 'none') {{\n",
       "            console.log([gd, 'removed!']);\n",
       "            Plotly.purge(gd);\n",
       "            observer.disconnect();\n",
       "        }}\n",
       "}});\n",
       "\n",
       "// Listen for the removal of the full notebook cells\n",
       "var notebookContainer = gd.closest('#notebook-container');\n",
       "if (notebookContainer) {{\n",
       "    x.observe(notebookContainer, {childList: true});\n",
       "}}\n",
       "\n",
       "// Listen for the clearing of the current output cell\n",
       "var outputEl = gd.closest('.output');\n",
       "if (outputEl) {{\n",
       "    x.observe(outputEl, {childList: true});\n",
       "}}\n",
       "\n",
       "                        })                };                });            </script>        </div>"
      ]
     },
     "metadata": {},
     "output_type": "display_data"
    }
   ],
   "source": [
    "burst = px.sunburst(df_new, \n",
    "                    path=['Company Name', 'Location'], \n",
    "                    values='Launches',\n",
    "                    title='Which companies launch most missions and where?',\n",
    "                   )\n",
    " \n",
    "burst.update_layout(coloraxis_showscale=False)\n",
    " \n",
    "burst.show()"
   ]
  },
  {
   "cell_type": "markdown",
   "id": "406c7c72",
   "metadata": {},
   "source": [
    "### What is the current status of most rockets?"
   ]
  },
  {
   "cell_type": "code",
   "execution_count": 70,
   "id": "cc2a9f81",
   "metadata": {
    "scrolled": false
   },
   "outputs": [
    {
     "data": {
      "text/html": [
       "<div>\n",
       "<style scoped>\n",
       "    .dataframe tbody tr th:only-of-type {\n",
       "        vertical-align: middle;\n",
       "    }\n",
       "\n",
       "    .dataframe tbody tr th {\n",
       "        vertical-align: top;\n",
       "    }\n",
       "\n",
       "    .dataframe thead th {\n",
       "        text-align: right;\n",
       "    }\n",
       "</style>\n",
       "<table border=\"1\" class=\"dataframe\">\n",
       "  <thead>\n",
       "    <tr style=\"text-align: right;\">\n",
       "      <th></th>\n",
       "      <th>Count</th>\n",
       "    </tr>\n",
       "    <tr>\n",
       "      <th>Status Rocket</th>\n",
       "      <th></th>\n",
       "    </tr>\n",
       "  </thead>\n",
       "  <tbody>\n",
       "    <tr>\n",
       "      <th>StatusActive</th>\n",
       "      <td>790</td>\n",
       "    </tr>\n",
       "    <tr>\n",
       "      <th>StatusRetired</th>\n",
       "      <td>3534</td>\n",
       "    </tr>\n",
       "  </tbody>\n",
       "</table>\n",
       "</div>"
      ],
      "text/plain": [
       "               Count\n",
       "Status Rocket       \n",
       "StatusActive     790\n",
       "StatusRetired   3534"
      ]
     },
     "execution_count": 70,
     "metadata": {},
     "output_type": "execute_result"
    }
   ],
   "source": [
    "status_rocket = data.groupby('Status Rocket').agg({'Status Rocket':pd.Series.count})\n",
    "status_rocket.rename(columns={'Status Rocket':'Status Rocket','Status Rocket':'Count'})"
   ]
  },
  {
   "cell_type": "markdown",
   "id": "e182db1a",
   "metadata": {},
   "source": [
    "According to the data we can see that there are more Retired rockets over the Active rockets."
   ]
  },
  {
   "cell_type": "code",
   "execution_count": null,
   "id": "d094c5b9",
   "metadata": {},
   "outputs": [],
   "source": []
  }
 ],
 "metadata": {
  "kernelspec": {
   "display_name": "Python 3 (ipykernel)",
   "language": "python",
   "name": "python3"
  },
  "language_info": {
   "codemirror_mode": {
    "name": "ipython",
    "version": 3
   },
   "file_extension": ".py",
   "mimetype": "text/x-python",
   "name": "python",
   "nbconvert_exporter": "python",
   "pygments_lexer": "ipython3",
   "version": "3.9.12"
  }
 },
 "nbformat": 4,
 "nbformat_minor": 5
}
